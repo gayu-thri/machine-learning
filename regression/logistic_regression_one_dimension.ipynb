{
 "cells": [
  {
   "cell_type": "code",
   "execution_count": null,
   "id": "designed-andorra",
   "metadata": {
    "id": "designed-andorra"
   },
   "outputs": [],
   "source": [
    "import numpy as np\n",
    "import torch\n",
    "import pandas as pd\n",
    "import matplotlib.pyplot as plt"
   ]
  },
  {
   "cell_type": "code",
   "execution_count": null,
   "id": "brutal-stream",
   "metadata": {
    "id": "brutal-stream"
   },
   "outputs": [],
   "source": [
    "df = pd.read_csv(\"data/kaggle/diabetes/diabetes.csv\")\n",
    "# kaggle dataset\n",
    "# https://www.kaggle.com/uciml/pima-indians-diabetes-database"
   ]
  },
  {
   "cell_type": "code",
   "execution_count": null,
   "id": "tired-accident",
   "metadata": {
    "colab": {
     "base_uri": "https://localhost:8080/",
     "height": 224
    },
    "id": "tired-accident",
    "outputId": "8c893f49-0674-4410-fe7a-5afab4f7a6a9"
   },
   "outputs": [
    {
     "data": {
      "text/html": [
       "<div>\n",
       "<style scoped>\n",
       "    .dataframe tbody tr th:only-of-type {\n",
       "        vertical-align: middle;\n",
       "    }\n",
       "\n",
       "    .dataframe tbody tr th {\n",
       "        vertical-align: top;\n",
       "    }\n",
       "\n",
       "    .dataframe thead th {\n",
       "        text-align: right;\n",
       "    }\n",
       "</style>\n",
       "<table border=\"1\" class=\"dataframe\">\n",
       "  <thead>\n",
       "    <tr style=\"text-align: right;\">\n",
       "      <th></th>\n",
       "      <th>Pregnancies</th>\n",
       "      <th>Glucose</th>\n",
       "      <th>BloodPressure</th>\n",
       "      <th>SkinThickness</th>\n",
       "      <th>Insulin</th>\n",
       "      <th>BMI</th>\n",
       "      <th>DiabetesPedigreeFunction</th>\n",
       "      <th>Age</th>\n",
       "      <th>Outcome</th>\n",
       "    </tr>\n",
       "  </thead>\n",
       "  <tbody>\n",
       "    <tr>\n",
       "      <th>0</th>\n",
       "      <td>6</td>\n",
       "      <td>148</td>\n",
       "      <td>72</td>\n",
       "      <td>35</td>\n",
       "      <td>0</td>\n",
       "      <td>33.6</td>\n",
       "      <td>0.627</td>\n",
       "      <td>50</td>\n",
       "      <td>1</td>\n",
       "    </tr>\n",
       "    <tr>\n",
       "      <th>1</th>\n",
       "      <td>1</td>\n",
       "      <td>85</td>\n",
       "      <td>66</td>\n",
       "      <td>29</td>\n",
       "      <td>0</td>\n",
       "      <td>26.6</td>\n",
       "      <td>0.351</td>\n",
       "      <td>31</td>\n",
       "      <td>0</td>\n",
       "    </tr>\n",
       "    <tr>\n",
       "      <th>2</th>\n",
       "      <td>8</td>\n",
       "      <td>183</td>\n",
       "      <td>64</td>\n",
       "      <td>0</td>\n",
       "      <td>0</td>\n",
       "      <td>23.3</td>\n",
       "      <td>0.672</td>\n",
       "      <td>32</td>\n",
       "      <td>1</td>\n",
       "    </tr>\n",
       "    <tr>\n",
       "      <th>3</th>\n",
       "      <td>1</td>\n",
       "      <td>89</td>\n",
       "      <td>66</td>\n",
       "      <td>23</td>\n",
       "      <td>94</td>\n",
       "      <td>28.1</td>\n",
       "      <td>0.167</td>\n",
       "      <td>21</td>\n",
       "      <td>0</td>\n",
       "    </tr>\n",
       "    <tr>\n",
       "      <th>4</th>\n",
       "      <td>0</td>\n",
       "      <td>137</td>\n",
       "      <td>40</td>\n",
       "      <td>35</td>\n",
       "      <td>168</td>\n",
       "      <td>43.1</td>\n",
       "      <td>2.288</td>\n",
       "      <td>33</td>\n",
       "      <td>1</td>\n",
       "    </tr>\n",
       "  </tbody>\n",
       "</table>\n",
       "</div>"
      ],
      "text/plain": [
       "   Pregnancies  Glucose  BloodPressure  SkinThickness  Insulin   BMI  \\\n",
       "0            6      148             72             35        0  33.6   \n",
       "1            1       85             66             29        0  26.6   \n",
       "2            8      183             64              0        0  23.3   \n",
       "3            1       89             66             23       94  28.1   \n",
       "4            0      137             40             35      168  43.1   \n",
       "\n",
       "   DiabetesPedigreeFunction  Age  Outcome  \n",
       "0                     0.627   50        1  \n",
       "1                     0.351   31        0  \n",
       "2                     0.672   32        1  \n",
       "3                     0.167   21        0  \n",
       "4                     2.288   33        1  "
      ]
     },
     "execution_count": 5,
     "metadata": {},
     "output_type": "execute_result"
    }
   ],
   "source": [
    "df.head()"
   ]
  },
  {
   "cell_type": "code",
   "execution_count": null,
   "id": "driven-december",
   "metadata": {
    "colab": {
     "base_uri": "https://localhost:8080/"
    },
    "id": "driven-december",
    "outputId": "879e82ce-5352-4447-e205-a5fd2ba39bca"
   },
   "outputs": [
    {
     "data": {
      "text/plain": [
       "(768, 9)"
      ]
     },
     "execution_count": 6,
     "metadata": {},
     "output_type": "execute_result"
    }
   ],
   "source": [
    "df.shape"
   ]
  },
  {
   "cell_type": "code",
   "execution_count": null,
   "id": "hybrid-boston",
   "metadata": {
    "colab": {
     "base_uri": "https://localhost:8080/"
    },
    "id": "hybrid-boston",
    "outputId": "c3d49027-43a4-4b90-a755-2601968db23f"
   },
   "outputs": [
    {
     "data": {
      "text/plain": [
       "Index(['Pregnancies', 'Glucose', 'BloodPressure', 'SkinThickness', 'Insulin',\n",
       "       'BMI', 'DiabetesPedigreeFunction', 'Age', 'Outcome'],\n",
       "      dtype='object')"
      ]
     },
     "execution_count": 7,
     "metadata": {},
     "output_type": "execute_result"
    }
   ],
   "source": [
    "df.columns"
   ]
  },
  {
   "cell_type": "code",
   "execution_count": null,
   "id": "offshore-dairy",
   "metadata": {
    "colab": {
     "base_uri": "https://localhost:8080/"
    },
    "id": "offshore-dairy",
    "outputId": "f6257c8b-3b6a-4be9-a169-c9b5af58ceaa"
   },
   "outputs": [
    {
     "data": {
      "text/plain": [
       "0    500\n",
       "1    268\n",
       "Name: Outcome, dtype: int64"
      ]
     },
     "execution_count": 8,
     "metadata": {},
     "output_type": "execute_result"
    }
   ],
   "source": [
    "df[\"Outcome\"].value_counts()"
   ]
  },
  {
   "cell_type": "code",
   "execution_count": null,
   "id": "incident-pontiac",
   "metadata": {
    "id": "incident-pontiac"
   },
   "outputs": [
    {
     "name": "stdout",
     "output_type": "stream",
     "text": [
      "<class 'torch.Tensor'> \n",
      " <class 'torch.Tensor'>\n"
     ]
    }
   ],
   "source": [
    "X = df[\n",
    "    [\n",
    "        \"Pregnancies\",\n",
    "        \"Glucose\",\n",
    "        \"BloodPressure\",\n",
    "        \"SkinThickness\",\n",
    "        \"Insulin\",\n",
    "        \"BMI\",\n",
    "        \"DiabetesPedigreeFunction\",\n",
    "        \"Age\",\n",
    "    ]\n",
    "].values\n",
    "y = df[\"Outcome\"].values\n",
    "# or y = df['Outcome'].values\n",
    "X = torch.tensor(X, dtype=torch.float32)\n",
    "y = torch.tensor(y, dtype=torch.float32)\n",
    "print(type(X), \"\\n\", type(y))\n",
    "# X = torch.from_numpy(X).type(torch.FloatTensor)"
   ]
  },
  {
   "cell_type": "code",
   "execution_count": null,
   "id": "constant-rings",
   "metadata": {
    "colab": {
     "base_uri": "https://localhost:8080/"
    },
    "id": "constant-rings",
    "outputId": "d8543e64-5e34-4a3d-cbf6-c5ffe1bab3a1"
   },
   "outputs": [
    {
     "data": {
      "text/plain": [
       "torch.Size([768, 8])"
      ]
     },
     "execution_count": 10,
     "metadata": {},
     "output_type": "execute_result"
    }
   ],
   "source": [
    "X.shape"
   ]
  },
  {
   "cell_type": "code",
   "execution_count": null,
   "id": "valid-chapel",
   "metadata": {
    "colab": {
     "base_uri": "https://localhost:8080/"
    },
    "id": "valid-chapel",
    "outputId": "3456bd6f-c292-4fae-cfaa-91904c153d1b"
   },
   "outputs": [
    {
     "data": {
      "text/plain": [
       "torch.Size([768])"
      ]
     },
     "execution_count": 11,
     "metadata": {},
     "output_type": "execute_result"
    }
   ],
   "source": [
    "y.shape"
   ]
  },
  {
   "cell_type": "code",
   "execution_count": null,
   "id": "assumed-isolation",
   "metadata": {
    "id": "assumed-isolation"
   },
   "outputs": [],
   "source": [
    "train_end_index = int(0.8 * len(X))\n",
    "X_train, X_test = X[:train_end_index], X[train_end_index:]\n",
    "y_train, y_test = y[:train_end_index], y[train_end_index:]"
   ]
  },
  {
   "cell_type": "code",
   "execution_count": null,
   "id": "amino-ghana",
   "metadata": {
    "colab": {
     "base_uri": "https://localhost:8080/"
    },
    "id": "amino-ghana",
    "outputId": "fa47d080-7a47-4b2d-abde-17836bef5727"
   },
   "outputs": [
    {
     "name": "stdout",
     "output_type": "stream",
     "text": [
      "Shape of X_train:  torch.Size([614, 8])\n",
      "Shape of y_train:  torch.Size([614])\n",
      "Shape of X_test:  torch.Size([154, 8])\n",
      "Shape of y_test:  torch.Size([154])\n"
     ]
    }
   ],
   "source": [
    "print(\"Shape of X_train: \", X_train.shape)\n",
    "print(\"Shape of y_train: \", y_train.shape)\n",
    "print(\"Shape of X_test: \", X_test.shape)\n",
    "print(\"Shape of y_test: \", y_test.shape)"
   ]
  },
  {
   "cell_type": "code",
   "execution_count": null,
   "id": "passive-broadcast",
   "metadata": {
    "id": "passive-broadcast"
   },
   "outputs": [],
   "source": [
    "class LogisticRegression(torch.nn.Module):  # inheriting from nn.Module\n",
    "    def __init__(self, input_dimensions, output_dimensions):\n",
    "        # calls the init function of nn.Module\n",
    "        super().__init__()  # call super constructor\n",
    "        self.linear = torch.nn.Linear(input_dimensions, output_dimensions, bias=True)\n",
    "        # self.linear.weight = torch.nn.Parameter(torch.Tensor(input_dimensions))\n",
    "        print(self.linear.weight.shape)  # ([1, 8])\n",
    "        print(self.linear.bias.shape)\n",
    "        # creates a 1 layer feed forward network with in inputs and out outputs.\n",
    "        # weights = (out, in); bias = (out)\n",
    "\n",
    "    def forward(self, X):\n",
    "        y_pred = torch.sigmoid(self.linear(X))\n",
    "        return y_pred\n",
    "\n",
    "\n",
    "# dimension of weights = output/input"
   ]
  },
  {
   "cell_type": "code",
   "execution_count": null,
   "id": "ideal-equity",
   "metadata": {
    "colab": {
     "base_uri": "https://localhost:8080/"
    },
    "id": "ideal-equity",
    "outputId": "58104fc0-c951-4cee-9882-61080f26c1c0",
    "tags": []
   },
   "outputs": [
    {
     "name": "stdout",
     "output_type": "stream",
     "text": [
      "8 , 1\n",
      "torch.Size([1, 8])\n",
      "torch.Size([1])\n"
     ]
    }
   ],
   "source": [
    "samples, input_features = X_train.shape\n",
    "output_features = 1\n",
    "print(input_features, \",\", output_features)\n",
    "logreg = LogisticRegression(input_features, output_features)"
   ]
  },
  {
   "cell_type": "code",
   "execution_count": null,
   "id": "0acbd553",
   "metadata": {},
   "outputs": [],
   "source": [
    "# loss\n",
    "criterion = torch.nn.BCELoss()\n",
    "# Binary Cross-Entropy (binary logarithmic loss function) - for binary classification\n",
    "\n",
    "# optimizer - to update weights\n",
    "learning_rate = 0.0001\n",
    "iterations = 100000\n",
    "optimizer = torch.optim.SGD(logreg.parameters(), lr=learning_rate)\n",
    "# model.parameters() --> learnable parameters for the optimizer"
   ]
  },
  {
   "cell_type": "code",
   "execution_count": null,
   "id": "according-ladder",
   "metadata": {
    "colab": {
     "base_uri": "https://localhost:8080/",
     "height": 265
    },
    "id": "according-ladder",
    "outputId": "091081a0-006f-408f-a362-c1c726c6af18",
    "tags": []
   },
   "outputs": [
    {
     "name": "stdout",
     "output_type": "stream",
     "text": [
      "Iteration: 0, Loss: 5.674142360687256\n",
      "Iteration: 10000, Loss: 0.5969590544700623\n",
      "Iteration: 20000, Loss: 0.595583438873291\n",
      "Iteration: 30000, Loss: 0.5942579507827759\n",
      "Iteration: 40000, Loss: 0.5929510593414307\n",
      "Iteration: 50000, Loss: 0.5916601419448853\n",
      "Iteration: 60000, Loss: 0.5903834104537964\n",
      "Iteration: 70000, Loss: 0.5891261100769043\n",
      "Iteration: 80000, Loss: 0.5878816843032837\n",
      "Iteration: 90000, Loss: 0.5866446495056152\n"
     ]
    }
   ],
   "source": [
    "for i in range(iterations):\n",
    "    # logreg.train()\n",
    "\n",
    "    # Forward propagation\n",
    "    y_pred = logreg.forward(X_train)  # torch.Size([614, 1])\n",
    "    # print(y_pred.shape, y_train.shape)\n",
    "    # https://stackoverflow.com/questions/57798033/valueerror-target-size-torch-size16-must-be-the-same-as-input-size-torch\n",
    "    y_pred = y_pred.squeeze()  # y_pred.view(y_pred.shape[0]) # try squeeze\n",
    "    loss = criterion(y_pred, y_train)\n",
    "    # print(y_pred.shape)\n",
    "    # Backward propagation\n",
    "    loss.backward()  # calculates gradients\n",
    "    optimizer.step()  # Performs a single optimization step (parameter update).\n",
    "    optimizer.zero_grad()  # flushes previous value of gradients\n",
    "\n",
    "    if i % (iterations / 10) == 0:\n",
    "        print(\"Iteration: {}, Loss: {}\".format(i, loss))"
   ]
  },
  {
   "cell_type": "code",
   "execution_count": 44,
   "id": "41d19fc2",
   "metadata": {},
   "outputs": [
    {
     "name": "stdout",
     "output_type": "stream",
     "text": [
      "Accuracy score at test time: 92.1429\n"
     ]
    }
   ],
   "source": [
    "with torch.no_grad():\n",
    "    y_predicted = logreg(X_test)\n",
    "    y_predicted_cls = y_predicted.round()\n",
    "    acc = y_predicted_cls.eq(y_test).sum() / float(y_test.shape[0])\n",
    "    print(f\"Accuracy score at test time: {acc.item():.4f}\")"
   ]
  },
  {
   "cell_type": "markdown",
   "id": "c8a28c3c-e605-44b2-915e-7642f207361e",
   "metadata": {},
   "source": [
    "---"
   ]
  },
  {
   "cell_type": "code",
   "execution_count": 45,
   "id": "e15808e3",
   "metadata": {},
   "outputs": [],
   "source": [
    "import torch.nn as nn\n",
    "\n",
    "m = nn.Sigmoid()\n",
    "loss = nn.BCELoss()\n",
    "input = torch.randn(3, requires_grad=True)\n",
    "target = torch.empty(3).random_(2)\n",
    "output = loss(m(input), target)\n",
    "output.backward()"
   ]
  },
  {
   "cell_type": "code",
   "execution_count": 32,
   "id": "647964fe",
   "metadata": {},
   "outputs": [
    {
     "data": {
      "text/plain": [
       "torch.Size([3])"
      ]
     },
     "execution_count": 32,
     "metadata": {},
     "output_type": "execute_result"
    }
   ],
   "source": [
    "input.shape"
   ]
  },
  {
   "cell_type": "code",
   "execution_count": 33,
   "id": "4df73bff",
   "metadata": {},
   "outputs": [
    {
     "data": {
      "text/plain": [
       "tensor([[-0.3739,  0.9067,  0.1842],\n",
       "        [ 0.4629, -1.9096, -1.7016]])"
      ]
     },
     "execution_count": 33,
     "metadata": {},
     "output_type": "execute_result"
    }
   ],
   "source": [
    "x = torch.randn((2, 3))\n",
    "x"
   ]
  },
  {
   "cell_type": "code",
   "execution_count": 34,
   "id": "0628d31c",
   "metadata": {},
   "outputs": [
    {
     "data": {
      "text/plain": [
       "tensor([[1.6261, 2.9067, 2.1842],\n",
       "        [2.4629, 0.0904, 0.2984]])"
      ]
     },
     "execution_count": 34,
     "metadata": {},
     "output_type": "execute_result"
    }
   ],
   "source": [
    "x + 2"
   ]
  },
  {
   "cell_type": "code",
   "execution_count": 35,
   "id": "01a56fcd",
   "metadata": {},
   "outputs": [
    {
     "data": {
      "text/plain": [
       "tensor(8)"
      ]
     },
     "execution_count": 35,
     "metadata": {},
     "output_type": "execute_result"
    }
   ],
   "source": [
    "torch.tensor(8)"
   ]
  },
  {
   "cell_type": "code",
   "execution_count": null,
   "id": "c33124ad",
   "metadata": {},
   "outputs": [],
   "source": []
  }
 ],
 "metadata": {
  "colab": {
   "collapsed_sections": [],
   "name": "LogisticRegression-Diabetes.ipynb",
   "provenance": []
  },
  "kernelspec": {
   "display_name": "Python 3.9.12 ('base')",
   "language": "python",
   "name": "python3"
  },
  "language_info": {
   "codemirror_mode": {
    "name": "ipython",
    "version": 3
   },
   "file_extension": ".py",
   "mimetype": "text/x-python",
   "name": "python",
   "nbconvert_exporter": "python",
   "pygments_lexer": "ipython3",
   "version": "3.9.12"
  },
  "vscode": {
   "interpreter": {
    "hash": "132b478da59ea6e21b605c443e973c3110c99c505305d45c4bf1b23bb82d139a"
   }
  }
 },
 "nbformat": 4,
 "nbformat_minor": 5
}
