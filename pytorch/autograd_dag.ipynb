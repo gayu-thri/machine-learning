{
 "cells": [
  {
   "cell_type": "code",
   "execution_count": 1,
   "metadata": {},
   "outputs": [],
   "source": [
    "import torch\n",
    "from IPython.display import display, Math"
   ]
  },
  {
   "cell_type": "code",
   "execution_count": 2,
   "metadata": {},
   "outputs": [
    {
     "name": "stdout",
     "output_type": "stream",
     "text": [
      "tensor([11.], grad_fn=<AddBackward0>)\n"
     ]
    }
   ],
   "source": [
    "# Define the graph - w, x, b are leaf nodes and y is the root node\n",
    "# Graph is constructed with every line because the\n",
    "# computational graphs are DYNAMIC in PyTorch\n",
    "'''\n",
    "                      z\n",
    "\n",
    "                      +\n",
    "\n",
    "                u           b\n",
    "\n",
    "                *\n",
    "\n",
    "            w      x\n",
    "'''\n",
    "\n",
    "w = torch.tensor([2.0],requires_grad=True)\n",
    "x = torch.tensor([3.0])\n",
    "b = torch.tensor([5.0],requires_grad=True)\n",
    "\n",
    "# z = (w * x) + b\n",
    "u = w * x #1st operation\n",
    "z = u + b #2nd operation\n",
    "\n",
    "print(z)"
   ]
  },
  {
   "cell_type": "code",
   "execution_count": 3,
   "metadata": {},
   "outputs": [
    {
     "name": "stdout",
     "output_type": "stream",
     "text": [
      "w.is_leaf: True\n",
      "w.grad_fn: None\n",
      "w.grad: None\n",
      "\n",
      "x.is_leaf: True\n",
      "x.grad_fn: None\n",
      "x.grad: None\n",
      "\n",
      "b.is_leaf: True\n",
      "b.grad_fn: None\n",
      "b.grad: None\n",
      "\n",
      "z.is_leaf: False\n",
      "z.grad_fn: <AddBackward0 object at 0x7fb67cac70d0>\n",
      "z.grad: None\n",
      "\n",
      "u.is_leaf: False\n",
      "u.grad_fn: <MulBackward0 object at 0x7fb67cac7190>\n",
      "u.grad: None\n"
     ]
    },
    {
     "name": "stderr",
     "output_type": "stream",
     "text": [
      "/home/local/ZOHOCORP/gayathri-12052/InstalledPrograms/miniconda3/envs/api/lib/python3.8/site-packages/torch/_tensor.py:1083: UserWarning: The .grad attribute of a Tensor that is not a leaf Tensor is being accessed. Its .grad attribute won't be populated during autograd.backward(). If you indeed want the .grad field to be populated for a non-leaf Tensor, use .retain_grad() on the non-leaf Tensor. If you access the non-leaf Tensor by mistake, make sure you access the leaf Tensor instead. See github.com/pytorch/pytorch/pull/30531 for more informations. (Triggered internally at  aten/src/ATen/core/TensorBody.h:477.)\n",
      "  return self._grad\n"
     ]
    },
    {
     "data": {
      "text/latex": [
       "$\\displaystyle w = 2.0$"
      ],
      "text/plain": [
       "<IPython.core.display.Math object>"
      ]
     },
     "metadata": {},
     "output_type": "display_data"
    },
    {
     "data": {
      "text/latex": [
       "$\\displaystyle x = 3.0$"
      ],
      "text/plain": [
       "<IPython.core.display.Math object>"
      ]
     },
     "metadata": {},
     "output_type": "display_data"
    },
    {
     "data": {
      "text/latex": [
       "$\\displaystyle b = 5.0$"
      ],
      "text/plain": [
       "<IPython.core.display.Math object>"
      ]
     },
     "metadata": {},
     "output_type": "display_data"
    },
    {
     "data": {
      "text/latex": [
       "$\\displaystyle y = w * x + b$"
      ],
      "text/plain": [
       "<IPython.core.display.Math object>"
      ]
     },
     "metadata": {},
     "output_type": "display_data"
    },
    {
     "name": "stdout",
     "output_type": "stream",
     "text": [
      "\n",
      "\n",
      "-----------------------GRADIENTS-----------------------\n"
     ]
    },
    {
     "data": {
      "text/latex": [
       "$\\displaystyle \\frac{\\partial y}{\\partial w} = 3.0$"
      ],
      "text/plain": [
       "<IPython.core.display.Math object>"
      ]
     },
     "metadata": {},
     "output_type": "display_data"
    },
    {
     "name": "stdout",
     "output_type": "stream",
     "text": [
      "\n"
     ]
    },
    {
     "data": {
      "text/latex": [
       "$\\displaystyle \\frac{\\partial y}{\\partial b} = 1.0$"
      ],
      "text/plain": [
       "<IPython.core.display.Math object>"
      ]
     },
     "metadata": {},
     "output_type": "display_data"
    },
    {
     "name": "stdout",
     "output_type": "stream",
     "text": [
      "\n",
      "-------------------------------------------------------\n",
      "\n",
      "w.is_leaf: True\n",
      "w.grad_fn: None\n",
      "w.grad: tensor([3.])\n",
      "\n",
      "x.is_leaf: True\n",
      "x.grad_fn: None\n",
      "x.grad: None\n",
      "\n",
      "b.is_leaf: True\n",
      "b.grad_fn: None\n",
      "b.grad: tensor([1.])\n",
      "\n",
      "z.is_leaf: False\n",
      "z.grad_fn: <AddBackward0 object at 0x7fb67caab160>\n",
      "z.grad: None\n",
      "\n",
      "u.is_leaf: False\n",
      "u.grad_fn: <MulBackward0 object at 0x7fb5be77ad00>\n",
      "u.grad: None\n"
     ]
    },
    {
     "data": {
      "text/plain": [
       "'\\n                      z\\n\\n                      +\\n\\n                u           b\\n\\n                *\\n\\n            w      x\\n'"
      ]
     },
     "execution_count": 3,
     "metadata": {},
     "output_type": "execute_result"
    }
   ],
   "source": [
    "'''\n",
    "                      z\n",
    "\n",
    "                      +\n",
    "\n",
    "                u           b\n",
    "\n",
    "                *\n",
    "\n",
    "            w      x\n",
    "'''\n",
    "# leaves are the input tensors &\n",
    "# roots are the output tensors.\n",
    "print(f'w.is_leaf: {w.is_leaf}')\n",
    "print(f'w.grad_fn: {w.grad_fn}')\n",
    "print(f'w.grad: {w.grad}\\n')\n",
    "\n",
    "print(f'x.is_leaf: {x.is_leaf}')\n",
    "print(f'x.grad_fn: {x.grad_fn}')\n",
    "print(f'x.grad: {x.grad}\\n')\n",
    "\n",
    "print(f'b.is_leaf: {b.is_leaf}')\n",
    "print(f'b.grad_fn: {b.grad_fn}')\n",
    "print(f'b.grad: {b.grad}\\n')\n",
    "\n",
    "print(f'z.is_leaf: {z.is_leaf}')\n",
    "print(f'z.grad_fn: {z.grad_fn}')\n",
    "print(f'z.grad: {z.grad}\\n')\n",
    "\n",
    "print(f'u.is_leaf: {u.is_leaf}')\n",
    "print(f'u.grad_fn: {u.grad_fn}')\n",
    "print(f'u.grad: {u.grad}')\n",
    "\n",
    "#backprop\n",
    "z.backward()\n",
    "display(Math(fr'w = {w.item()}'))\n",
    "display(Math(fr'x = {x.item()}'))\n",
    "display(Math(fr'b = {b.item()}'))\n",
    "display(Math(\"y = w * x + b\"))\n",
    "print()\n",
    "\n",
    "print(\"\\n-----------------------GRADIENTS-----------------------\")\n",
    "display(Math(fr'\\frac{{\\partial y}}{{\\partial w}} = {w.grad.item()}'))\n",
    "print()\n",
    "display(Math(fr'\\frac{{\\partial y}}{{\\partial b}} = {b.grad.item()}'))\n",
    "print(\"\\n-------------------------------------------------------\\n\")\n",
    "\n",
    "# Outputs have gradient function and no grads\n",
    "# Inputs have grads and no gradient function\n",
    "print(f'w.is_leaf: {w.is_leaf}')\n",
    "print(f'w.grad_fn: {w.grad_fn}')\n",
    "print(f'w.grad: {w.grad}\\n')\n",
    "\n",
    "print(f'x.is_leaf: {x.is_leaf}')\n",
    "print(f'x.grad_fn: {x.grad_fn}')\n",
    "print(f'x.grad: {x.grad}\\n')\n",
    "\n",
    "print(f'b.is_leaf: {b.is_leaf}')\n",
    "print(f'b.grad_fn: {b.grad_fn}')\n",
    "print(f'b.grad: {b.grad}\\n')\n",
    "\n",
    "print(f'z.is_leaf: {z.is_leaf}')\n",
    "print(f'z.grad_fn: {z.grad_fn}')\n",
    "print(f'z.grad: {z.grad}\\n')\n",
    "\n",
    "print(f'u.is_leaf: {u.is_leaf}')\n",
    "print(f'u.grad_fn: {u.grad_fn}')\n",
    "print(f'u.grad: {u.grad}')\n",
    "\n",
    "'''\n",
    "                      z\n",
    "\n",
    "                      +\n",
    "\n",
    "                u           b\n",
    "\n",
    "                *\n",
    "\n",
    "            w      x\n",
    "'''"
   ]
  },
  {
   "cell_type": "code",
   "execution_count": null,
   "metadata": {},
   "outputs": [],
   "source": []
  }
 ],
 "metadata": {
  "kernelspec": {
   "display_name": "Python 3.8.13 ('api')",
   "language": "python",
   "name": "python3"
  },
  "language_info": {
   "codemirror_mode": {
    "name": "ipython",
    "version": 3
   },
   "file_extension": ".py",
   "mimetype": "text/x-python",
   "name": "python",
   "nbconvert_exporter": "python",
   "pygments_lexer": "ipython3",
   "version": "3.8.13"
  },
  "orig_nbformat": 4,
  "vscode": {
   "interpreter": {
    "hash": "02f6b9677e163cab6dea6bfb6065022958ce9f83ac7888220cd5caa910b8889f"
   }
  }
 },
 "nbformat": 4,
 "nbformat_minor": 2
}
