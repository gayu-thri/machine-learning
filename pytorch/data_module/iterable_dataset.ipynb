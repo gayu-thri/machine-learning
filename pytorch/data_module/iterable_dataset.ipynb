{
 "cells": [
  {
   "cell_type": "code",
   "execution_count": 1,
   "id": "2e1a28ec-5fe9-4408-baa0-73867ffcf4d9",
   "metadata": {},
   "outputs": [],
   "source": [
    "from torch.utils.data import IterableDataset\n",
    "import torch\n",
    "import math"
   ]
  },
  {
   "cell_type": "code",
   "execution_count": 10,
   "id": "5a77e1cf-8705-45f1-8a57-25a98d24f582",
   "metadata": {},
   "outputs": [],
   "source": [
    "# From PyTorch doc\n",
    "class MyIterableDataset(torch.utils.data.IterableDataset):\n",
    "    def __init__(self, start, end):\n",
    "        super(MyIterableDataset).__init__()\n",
    "        assert end > start, \"this example code only works with end >= start\"\n",
    "        self.start = start\n",
    "        self.end = end\n",
    "\n",
    "    def __iter__(self):\n",
    "        worker_info = torch.utils.data.get_worker_info()\n",
    "        print(f\"Worker information:: {worker_info}\\n\")\n",
    "        if worker_info is None:  # single-process data loading, return the full iterator\n",
    "            iter_start = self.start\n",
    "            iter_end = self.end\n",
    "        else:  # in a worker process\n",
    "            # split workload equally\n",
    "            per_worker = int(\n",
    "                math.ceil((self.end - self.start) / float(worker_info.num_workers))\n",
    "            )\n",
    "            print(f\"PER WORKER:: {per_worker}\\n\")\n",
    "            worker_id = worker_info.id\n",
    "            iter_start = self.start + worker_id * per_worker\n",
    "            iter_end = min(iter_start + per_worker, self.end)\n",
    "            print(\n",
    "                f\"WORKER ID: {worker_id} ITER START: {iter_start} ITER END: {iter_end}\\n\"\n",
    "            )\n",
    "\n",
    "        print(\"=\" * 50)\n",
    "        return iter(range(iter_start, iter_end))"
   ]
  },
  {
   "cell_type": "code",
   "execution_count": 42,
   "id": "da491fb1-84a5-4d84-b0fe-9fb0c7dd1499",
   "metadata": {},
   "outputs": [
    {
     "name": "stdout",
     "output_type": "stream",
     "text": [
      "Worker information:: None\n",
      "\n",
      "==================================================\n",
      "[tensor([3]), tensor([4]), tensor([5]), tensor([6])]\n",
      "Worker information:: WorkerInfo(id=1, num_workers=2, seed=7518864737868168320, dataset=<__main__.MyIterableDataset object at 0x7ff720349c70>)\n",
      "Worker information:: WorkerInfo(id=0, num_workers=2, seed=7518864737868168319, dataset=<__main__.MyIterableDataset object at 0x7ff720349c70>)\n",
      "\n",
      "\n",
      "PER WORKER:: 2\n",
      "PER WORKER:: 2\n",
      "\n",
      "\n",
      "WORKER ID: 1 ITER START: 5 ITER END: 7\n",
      "WORKER ID: 0 ITER START: 3 ITER END: 5\n",
      "\n",
      "\n",
      "====================================================================================================\n",
      "\n",
      "[tensor([3]), tensor([5]), tensor([4]), tensor([6])]\n",
      "Worker information:: WorkerInfo(id=0, num_workers=4, seed=6570111619759283533, dataset=<__main__.MyIterableDataset object at 0x7ff720349c70>)\n",
      "\n",
      "PER WORKER:: 1\n",
      "\n",
      "Worker information:: WorkerInfo(id=1, num_workers=4, seed=6570111619759283534, dataset=<__main__.MyIterableDataset object at 0x7ff720349c70>)\n",
      "WORKER ID: 0 ITER START: 3 ITER END: 4\n",
      "Worker information:: WorkerInfo(id=2, num_workers=4, seed=6570111619759283535, dataset=<__main__.MyIterableDataset object at 0x7ff720349c70>)\n",
      "Worker information:: WorkerInfo(id=3, num_workers=4, seed=6570111619759283536, dataset=<__main__.MyIterableDataset object at 0x7ff720349c70>)\n",
      "\n",
      "\n",
      "\n",
      "\n",
      "==================================================PER WORKER:: 1\n",
      "PER WORKER:: 1\n",
      "PER WORKER:: 1\n",
      "\n",
      "\n",
      "\n",
      "\n",
      "WORKER ID: 1 ITER START: 4 ITER END: 5\n",
      "WORKER ID: 3 ITER START: 6 ITER END: 7\n",
      "WORKER ID: 2 ITER START: 5 ITER END: 6\n",
      "\n",
      "\n",
      "\n",
      "======================================================================================================================================================\n",
      "\n",
      "\n",
      "[tensor([3]), tensor([4]), tensor([5]), tensor([6])]\n"
     ]
    }
   ],
   "source": [
    "# should give same set of data as range(3, 7), i.e., [3, 4, 5, 6].\n",
    "ds = MyIterableDataset(start=3, end=7)\n",
    "\n",
    "# Single-process loading\n",
    "print(list(torch.utils.data.DataLoader(ds, num_workers=0)))\n",
    "\n",
    "# Mult-process loading with two worker processes\n",
    "# Worker 0 fetched [3, 4].  Worker 1 fetched [5, 6].\n",
    "print(list(torch.utils.data.DataLoader(ds, num_workers=2)))\n",
    "\n",
    "print(list(torch.utils.data.DataLoader(ds, num_workers=4)))\n",
    "# With even more workers\n",
    "# print(list(torch.utils.data.DataLoader(ds, num_workers=20)))"
   ]
  },
  {
   "cell_type": "markdown",
   "id": "022f6633-4fd2-41cb-9cc0-06167934e5bd",
   "metadata": {
    "tags": []
   },
   "source": [
    "### Doubt\n",
    "- how does split work for odd numbers?\n",
    "    - Example: \n",
    "should give same set of data as range(3, 7), i.e., [3, 4, 5, 6].    \n",
    "```bash\n",
    "Worker information:: WorkerInfo(id=1, num_workers=3, seed=955517934870473897, dataset=<__main__.MyIterableDataset object at 0x7ff728525190>)\n",
    "Worker information:: WorkerInfo(id=2, num_workers=3, seed=955517934870473898, dataset=<__main__.MyIterableDataset object at 0x7ff728525190>)\n",
    "Worker information:: WorkerInfo(id=0, num_workers=3, seed=955517934870473896, dataset=<__main__.MyIterableDataset object at 0x7ff728525190>)\n",
    "\n",
    "PER WORKER:: 2\n",
    "PER WORKER:: 2\n",
    "PER WORKER:: 2\n",
    "\n",
    "WORKER ID: 1 ITER START: 5 ITER END: 7\n",
    "WORKER ID: 0 ITER START: 3 ITER END: 5\n",
    "WORKER ID: 2 ITER START: 7 ITER END: 7\n",
    "```"
   ]
  },
  {
   "cell_type": "code",
   "execution_count": 40,
   "id": "2a32c5aa-caaf-48e2-b247-d4af4d835b8f",
   "metadata": {},
   "outputs": [
    {
     "name": "stdout",
     "output_type": "stream",
     "text": [
      "Worker information:: None\n",
      "\n",
      "==================================================\n",
      "3\n",
      "4\n",
      "5\n",
      "6\n"
     ]
    }
   ],
   "source": [
    "for i in iter(ds):\n",
    "    print(i)"
   ]
  },
  {
   "cell_type": "code",
   "execution_count": 27,
   "id": "0fc2c464-35b4-47e3-8b9f-9a333c72b7d0",
   "metadata": {},
   "outputs": [
    {
     "name": "stdout",
     "output_type": "stream",
     "text": [
      "Worker information:: WorkerInfo(id=0, num_workers=2, seed=3559251123838318224, dataset=<__main__.MyIterableDataset object at 0x7ff728525970>)\n",
      "Worker information:: WorkerInfo(id=1, num_workers=2, seed=3559251123838318225, dataset=<__main__.MyIterableDataset object at 0x7ff728525970>)\n",
      "\n",
      "\n",
      "PER WORKER:: 2\n",
      "PER WORKER:: 2\n",
      "\n",
      "\n",
      "WORKER ID: 0 ITER START: 3 ITER END: 5\n",
      "WORKER ID: 1 ITER START: 5 ITER END: 7\n",
      "\n",
      "\n",
      "====================================================================================================\n",
      "\n",
      "tensor([3, 4])\n",
      "tensor([5, 6])\n"
     ]
    }
   ],
   "source": [
    "from torch.utils.data import DataLoader\n",
    "\n",
    "for x in DataLoader(ds, batch_size=2, num_workers=2):\n",
    "    print(x)"
   ]
  },
  {
   "cell_type": "code",
   "execution_count": null,
   "id": "12a8101d-00d9-4fbc-ba4c-e851b3d72186",
   "metadata": {},
   "outputs": [],
   "source": []
  }
 ],
 "metadata": {
  "kernelspec": {
   "display_name": "Python 3.8.13 ('api')",
   "language": "python",
   "name": "python3"
  },
  "language_info": {
   "codemirror_mode": {
    "name": "ipython",
    "version": 3
   },
   "file_extension": ".py",
   "mimetype": "text/x-python",
   "name": "python",
   "nbconvert_exporter": "python",
   "pygments_lexer": "ipython3",
   "version": "3.8.13"
  },
  "vscode": {
   "interpreter": {
    "hash": "02f6b9677e163cab6dea6bfb6065022958ce9f83ac7888220cd5caa910b8889f"
   }
  }
 },
 "nbformat": 4,
 "nbformat_minor": 5
}
