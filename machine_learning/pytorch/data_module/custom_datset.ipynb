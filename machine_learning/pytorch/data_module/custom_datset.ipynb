{
 "cells": [
  {
   "cell_type": "code",
   "execution_count": 56,
   "id": "ac8f4048-6313-40e9-a2bb-3d34ef7d8a1f",
   "metadata": {},
   "outputs": [],
   "source": [
    "from torch.utils.data import Dataset\n",
    "import torchvision.transforms as transforms\n",
    "import torchaudio\n",
    "from PIL import Image\n",
    "from pathlib import Path"
   ]
  },
  {
   "cell_type": "code",
   "execution_count": 62,
   "id": "0ef54f74-be97-47cc-b169-133da1570656",
   "metadata": {},
   "outputs": [],
   "source": [
    "class CustomDataset(Dataset):\n",
    "    def __init__(self, label, transform, data_path=\"\"):\n",
    "        self.label = label\n",
    "        self.transform = transform\n",
    "        self.data_path = data_path\n",
    "\n",
    "    # The length of the dataset\n",
    "    def __len__(self):\n",
    "        return len(self.label)\n",
    "\n",
    "    # Load of item in folder\n",
    "    def __getitem__(self, index):\n",
    "        file, label = self.label[index]\n",
    "        print(file, label)\n",
    "        x = self.transform(Image.open(self.data_path / file))\n",
    "        return x, label"
   ]
  },
  {
   "cell_type": "code",
   "execution_count": 66,
   "id": "f6e2b1ad-2c77-46c7-9e8b-00c9d118c365",
   "metadata": {},
   "outputs": [],
   "source": [
    "d = CustomDataset(\n",
    "    [[\"image.jpg\", \"noisy\"]],\n",
    "    transform=transforms.ToTensor(),\n",
    "    data_path=Path(\"data\").resolve(),\n",
    ")"
   ]
  },
  {
   "cell_type": "code",
   "execution_count": 67,
   "id": "a6f088d2-0f01-46cb-8466-af4287b1ecae",
   "metadata": {},
   "outputs": [
    {
     "data": {
      "text/plain": [
       "1"
      ]
     },
     "execution_count": 67,
     "metadata": {},
     "output_type": "execute_result"
    }
   ],
   "source": [
    "d.__len__()"
   ]
  },
  {
   "cell_type": "code",
   "execution_count": 68,
   "id": "8e96c2a6-d6e9-4ce9-953d-8ae693c59554",
   "metadata": {},
   "outputs": [
    {
     "name": "stdout",
     "output_type": "stream",
     "text": [
      "image.jpg noisy\n"
     ]
    },
    {
     "data": {
      "text/plain": [
       "(tensor([[[1., 1., 1.,  ..., 1., 1., 1.],\n",
       "          [1., 1., 1.,  ..., 1., 1., 1.],\n",
       "          [1., 1., 1.,  ..., 1., 1., 1.],\n",
       "          ...,\n",
       "          [1., 1., 1.,  ..., 1., 1., 1.],\n",
       "          [1., 1., 1.,  ..., 1., 1., 1.],\n",
       "          [1., 1., 1.,  ..., 1., 1., 1.]],\n",
       " \n",
       "         [[1., 1., 1.,  ..., 1., 1., 1.],\n",
       "          [1., 1., 1.,  ..., 1., 1., 1.],\n",
       "          [1., 1., 1.,  ..., 1., 1., 1.],\n",
       "          ...,\n",
       "          [1., 1., 1.,  ..., 1., 1., 1.],\n",
       "          [1., 1., 1.,  ..., 1., 1., 1.],\n",
       "          [1., 1., 1.,  ..., 1., 1., 1.]],\n",
       " \n",
       "         [[1., 1., 1.,  ..., 1., 1., 1.],\n",
       "          [1., 1., 1.,  ..., 1., 1., 1.],\n",
       "          [1., 1., 1.,  ..., 1., 1., 1.],\n",
       "          ...,\n",
       "          [1., 1., 1.,  ..., 1., 1., 1.],\n",
       "          [1., 1., 1.,  ..., 1., 1., 1.],\n",
       "          [1., 1., 1.,  ..., 1., 1., 1.]]]),\n",
       " 'noisy')"
      ]
     },
     "execution_count": 68,
     "metadata": {},
     "output_type": "execute_result"
    }
   ],
   "source": [
    "d.__getitem__(0)"
   ]
  },
  {
   "cell_type": "code",
   "execution_count": 70,
   "id": "4b310f09-4c7f-4a67-a806-31bfc0c47634",
   "metadata": {},
   "outputs": [],
   "source": [
    "# d.__getitem__(1)"
   ]
  },
  {
   "cell_type": "code",
   "execution_count": null,
   "id": "7f272096-0934-4248-b69e-96c73bc91a42",
   "metadata": {},
   "outputs": [],
   "source": []
  }
 ],
 "metadata": {
  "kernelspec": {
   "display_name": "Python 3.8.13 ('api')",
   "language": "python",
   "name": "python3"
  },
  "language_info": {
   "codemirror_mode": {
    "name": "ipython",
    "version": 3
   },
   "file_extension": ".py",
   "mimetype": "text/x-python",
   "name": "python",
   "nbconvert_exporter": "python",
   "pygments_lexer": "ipython3",
   "version": "3.8.13"
  },
  "vscode": {
   "interpreter": {
    "hash": "02f6b9677e163cab6dea6bfb6065022958ce9f83ac7888220cd5caa910b8889f"
   }
  }
 },
 "nbformat": 4,
 "nbformat_minor": 5
}
