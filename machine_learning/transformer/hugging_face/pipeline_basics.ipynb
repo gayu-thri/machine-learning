{
 "cells": [
  {
   "cell_type": "code",
   "execution_count": 7,
   "id": "7f253b3a-6eda-4c77-b9db-a3beffc44d4f",
   "metadata": {},
   "outputs": [],
   "source": [
    "from transformers import pipeline, AutoModelForTokenClassification, AutoTokenizer\n",
    "import torch"
   ]
  },
  {
   "cell_type": "code",
   "execution_count": 2,
   "id": "d25993ef-61ab-4ec0-9ee8-3e5b93519cc2",
   "metadata": {},
   "outputs": [
    {
     "name": "stderr",
     "output_type": "stream",
     "text": [
      "No model was supplied, defaulted to dbmdz/bert-large-cased-finetuned-conll03-english and revision f2482bf (https://huggingface.co/dbmdz/bert-large-cased-finetuned-conll03-english).\n",
      "Using a pipeline without specifying a model name and revision in production is not recommended.\n",
      "Downloading (…)lve/main/config.json: 100%|█████| 998/998 [00:00<00:00, 2.39MB/s]\n",
      "Downloading pytorch_model.bin: 100%|███████| 1.33G/1.33G [02:35<00:00, 8.60MB/s]\n",
      "Downloading (…)okenizer_config.json: 100%|████| 60.0/60.0 [00:00<00:00, 186kB/s]\n",
      "Downloading (…)solve/main/vocab.txt: 100%|████| 213k/213k [00:00<00:00, 405kB/s]\n"
     ]
    }
   ],
   "source": [
    "generator = pipeline(task=\"ner\")"
   ]
  },
  {
   "cell_type": "code",
   "execution_count": 5,
   "id": "d871eb13-a58f-4b24-91f2-c3b2c17efa21",
   "metadata": {},
   "outputs": [
    {
     "name": "stdout",
     "output_type": "stream",
     "text": [
      "{'entity': 'I-LOC', 'score': 0.48886856, 'index': 9, 'word': 'in', 'start': 25, 'end': 27}\n",
      "{'entity': 'I-LOC', 'score': 0.9730592, 'index': 10, 'word': '##dia', 'start': 27, 'end': 30}\n",
      "{'entity': 'I-PER', 'score': 0.686044, 'index': 13, 'word': '##ha', 'start': 36, 'end': 38}\n"
     ]
    }
   ],
   "source": [
    "sequence = \"taj mahal is a wonder in india and shahjahan had built this monument.\"\n",
    "\n",
    "for entity in generator(sequence):\n",
    "    print(entity)"
   ]
  },
  {
   "cell_type": "code",
   "execution_count": 10,
   "id": "530c7091-479b-4b00-9c4e-446943469294",
   "metadata": {},
   "outputs": [
    {
     "data": {
      "text/plain": [
       "['[CLS]',\n",
       " 'Hu',\n",
       " '##gging',\n",
       " 'Face',\n",
       " 'Inc',\n",
       " '.',\n",
       " 'is',\n",
       " 'a',\n",
       " 'company',\n",
       " 'based',\n",
       " 'in',\n",
       " 'New',\n",
       " 'York',\n",
       " 'City',\n",
       " '.',\n",
       " 'Its',\n",
       " 'headquarters',\n",
       " 'are',\n",
       " 'in',\n",
       " 'D',\n",
       " '##UM',\n",
       " '##BO',\n",
       " ',',\n",
       " 'therefore',\n",
       " 'very',\n",
       " 'close',\n",
       " 'to',\n",
       " 'the',\n",
       " 'Manhattan',\n",
       " 'Bridge',\n",
       " '.',\n",
       " '[SEP]']"
      ]
     },
     "execution_count": 10,
     "metadata": {},
     "output_type": "execute_result"
    }
   ],
   "source": [
    "# model = AutoModelForTokenClassification.from_pretrained(\"dbmdz/bert-large-cased-finetuned-conll03-english\")\n",
    "tokenizer = AutoTokenizer.from_pretrained(\"bert-base-cased\")\n",
    "\n",
    "sequence = (\n",
    "    \"Hugging Face Inc. is a company based in New York City. Its headquarters are in DUMBO, \"\n",
    "    \"therefore very close to the Manhattan Bridge.\"\n",
    ")\n",
    "\n",
    "inputs = tokenizer(sequence, return_tensors=\"pt\")\n",
    "tokens = inputs.tokens()\n",
    "\n",
    "# outputs = model(**inputs).logits\n",
    "# predictions = torch.argmax(outputs, dim=2)\n",
    "tokens"
   ]
  },
  {
   "cell_type": "code",
   "execution_count": 9,
   "id": "6b26def1-7d66-46e6-9261-ea3c5fc50a31",
   "metadata": {},
   "outputs": [
    {
     "data": {
      "text/plain": [
       "tensor([[0, 6, 6, 6, 6, 0, 0, 0, 0, 0, 0, 8, 8, 8, 0, 0, 0, 0, 0, 8, 8, 8, 0, 0,\n",
       "         0, 0, 0, 0, 8, 8, 0, 0]])"
      ]
     },
     "execution_count": 9,
     "metadata": {},
     "output_type": "execute_result"
    }
   ],
   "source": [
    "predictions"
   ]
  },
  {
   "cell_type": "code",
   "execution_count": null,
   "id": "fb797cb1-2611-4a1b-bcae-8907974f96de",
   "metadata": {},
   "outputs": [],
   "source": []
  }
 ],
 "metadata": {
  "kernelspec": {
   "display_name": "Python 3 (ipykernel)",
   "language": "python",
   "name": "python3"
  },
  "language_info": {
   "codemirror_mode": {
    "name": "ipython",
    "version": 3
   },
   "file_extension": ".py",
   "mimetype": "text/x-python",
   "name": "python",
   "nbconvert_exporter": "python",
   "pygments_lexer": "ipython3",
   "version": "3.11.3"
  }
 },
 "nbformat": 4,
 "nbformat_minor": 5
}
