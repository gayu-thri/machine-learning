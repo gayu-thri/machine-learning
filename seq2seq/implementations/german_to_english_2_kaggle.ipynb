{
 "cells": [
  {
   "cell_type": "markdown",
   "metadata": {
    "papermill": {
     "duration": 0.025514,
     "end_time": "2020-11-15T15:35:25.099286",
     "exception": false,
     "start_time": "2020-11-15T15:35:25.073772",
     "status": "completed"
    },
    "tags": []
   },
   "source": [
    "In this notebook, I've implemented the most basic version of Seq2Seq model (without attention mechanism), also know as encoder-decoder model. Most of the modeling and training part are referenced from part-I of this great tutorial series: https://github.com/bentrevett/pytorch-seq2seq.\n",
    "\n",
    "But in this series, the preprocessed data is being used for training/evaluation (because pytorch's Multi30k class provides all the heavy lifting), so it's bit difficult to generalize the structure for custom dataset implementation. So in this notebook, I've implemented data preprocessing like tokenization, padding etc. from scratch using spacy and pure pytorch.\n",
    "\n",
    "Here are some other references I've used:\n",
    "\n",
    "* [Original research paper.](https://arxiv.org/pdf/1409.3215.pdf)\n",
    "* [Creating custom dataset for NLP tasks](https://github.com/aladdinpersson/Machine-Learning-Collection/blob/22635a65d8cf462aa44199357928e61c0ecda000/ML/Pytorch/more_advanced/image_captioning/get_loader.py)"
   ]
  },
  {
   "cell_type": "code",
   "execution_count": 1,
   "metadata": {
    "execution": {
     "iopub.execute_input": "2020-11-15T15:35:25.151322Z",
     "iopub.status.busy": "2020-11-15T15:35:25.150493Z",
     "iopub.status.idle": "2020-11-15T15:35:55.992291Z",
     "shell.execute_reply": "2020-11-15T15:35:55.991024Z"
    },
    "papermill": {
     "duration": 30.871435,
     "end_time": "2020-11-15T15:35:55.992426",
     "exception": false,
     "start_time": "2020-11-15T15:35:25.120991",
     "status": "completed"
    },
    "tags": []
   },
   "outputs": [],
   "source": [
    "%%capture\n",
    "!python -m spacy download en\n",
    "!python -m spacy download de"
   ]
  },
  {
   "cell_type": "code",
   "execution_count": 2,
   "metadata": {
    "_cell_guid": "b1076dfc-b9ad-4769-8c92-a6c4dae69d19",
    "_uuid": "8f2839f25d086af736a60e9eeb907d3b93b6e0e5",
    "execution": {
     "iopub.execute_input": "2020-11-15T15:35:56.046236Z",
     "iopub.status.busy": "2020-11-15T15:35:56.045381Z",
     "iopub.status.idle": "2020-11-15T15:35:58.170388Z",
     "shell.execute_reply": "2020-11-15T15:35:58.169389Z"
    },
    "papermill": {
     "duration": 2.154955,
     "end_time": "2020-11-15T15:35:58.170514",
     "exception": false,
     "start_time": "2020-11-15T15:35:56.015559",
     "status": "completed"
    },
    "tags": []
   },
   "outputs": [],
   "source": [
    "import os\n",
    "import re\n",
    "import time\n",
    "import math\n",
    "import random\n",
    "import unicodedata\n",
    "\n",
    "import numpy as np\n",
    "import pandas as pd\n",
    "\n",
    "from tqdm import tqdm\n",
    "\n",
    "import spacy\n",
    "\n",
    "from sklearn.model_selection import train_test_split\n",
    "\n",
    "import torch\n",
    "from torch import nn, optim\n",
    "from torch.nn.utils.rnn import pad_sequence\n",
    "from torch.utils.data import DataLoader, Dataset\n",
    "\n",
    "import seaborn as sns\n",
    "import matplotlib.pyplot as plt"
   ]
  },
  {
   "cell_type": "code",
   "execution_count": 3,
   "metadata": {
    "_cell_guid": "79c7e3d0-c299-4dcb-8224-4455121ee9b0",
    "_uuid": "d629ff2d2480ee46fbb7e2d37f6b5fab8052498a",
    "execution": {
     "iopub.execute_input": "2020-11-15T15:35:58.222028Z",
     "iopub.status.busy": "2020-11-15T15:35:58.221325Z",
     "iopub.status.idle": "2020-11-15T15:35:58.226881Z",
     "shell.execute_reply": "2020-11-15T15:35:58.226276Z"
    },
    "papermill": {
     "duration": 0.033748,
     "end_time": "2020-11-15T15:35:58.227014",
     "exception": false,
     "start_time": "2020-11-15T15:35:58.193266",
     "status": "completed"
    },
    "tags": []
   },
   "outputs": [],
   "source": [
    "SEED = 28\n",
    "\n",
    "random.seed(SEED)\n",
    "np.random.seed(SEED)\n",
    "torch.manual_seed(SEED)\n",
    "torch.cuda.manual_seed(SEED)\n",
    "torch.backends.cudnn.deterministic = True"
   ]
  },
  {
   "cell_type": "code",
   "execution_count": 4,
   "metadata": {
    "execution": {
     "iopub.execute_input": "2020-11-15T15:35:58.280914Z",
     "iopub.status.busy": "2020-11-15T15:35:58.280344Z",
     "iopub.status.idle": "2020-11-15T15:35:58.836519Z",
     "shell.execute_reply": "2020-11-15T15:35:58.835689Z"
    },
    "papermill": {
     "duration": 0.587102,
     "end_time": "2020-11-15T15:35:58.836629",
     "exception": false,
     "start_time": "2020-11-15T15:35:58.249527",
     "status": "completed"
    },
    "tags": []
   },
   "outputs": [
    {
     "data": {
      "text/html": [
       "<div>\n",
       "<style scoped>\n",
       "    .dataframe tbody tr th:only-of-type {\n",
       "        vertical-align: middle;\n",
       "    }\n",
       "\n",
       "    .dataframe tbody tr th {\n",
       "        vertical-align: top;\n",
       "    }\n",
       "\n",
       "    .dataframe thead th {\n",
       "        text-align: right;\n",
       "    }\n",
       "</style>\n",
       "<table border=\"1\" class=\"dataframe\">\n",
       "  <thead>\n",
       "    <tr style=\"text-align: right;\">\n",
       "      <th></th>\n",
       "      <th>en</th>\n",
       "      <th>de</th>\n",
       "    </tr>\n",
       "  </thead>\n",
       "  <tbody>\n",
       "    <tr>\n",
       "      <th>0</th>\n",
       "      <td>Hi.</td>\n",
       "      <td>Hallo!</td>\n",
       "    </tr>\n",
       "    <tr>\n",
       "      <th>1</th>\n",
       "      <td>Hi.</td>\n",
       "      <td>Grüß Gott!</td>\n",
       "    </tr>\n",
       "    <tr>\n",
       "      <th>2</th>\n",
       "      <td>Run!</td>\n",
       "      <td>Lauf!</td>\n",
       "    </tr>\n",
       "    <tr>\n",
       "      <th>3</th>\n",
       "      <td>Run.</td>\n",
       "      <td>Lauf!</td>\n",
       "    </tr>\n",
       "    <tr>\n",
       "      <th>4</th>\n",
       "      <td>Wow!</td>\n",
       "      <td>Potzdonner!</td>\n",
       "    </tr>\n",
       "  </tbody>\n",
       "</table>\n",
       "</div>"
      ],
      "text/plain": [
       "     en           de\n",
       "0   Hi.       Hallo!\n",
       "1   Hi.   Grüß Gott!\n",
       "2  Run!        Lauf!\n",
       "3  Run.        Lauf!\n",
       "4  Wow!  Potzdonner!"
      ]
     },
     "execution_count": 4,
     "metadata": {},
     "output_type": "execute_result"
    }
   ],
   "source": [
    "data_df = pd.read_csv('../input/english-to-german/deu.txt', sep='\\t', usecols=[0, 1])\n",
    "data_df.columns = ['en', 'de']\n",
    "data_df.head()"
   ]
  },
  {
   "cell_type": "code",
   "execution_count": 5,
   "metadata": {
    "execution": {
     "iopub.execute_input": "2020-11-15T15:35:58.888850Z",
     "iopub.status.busy": "2020-11-15T15:35:58.887985Z",
     "iopub.status.idle": "2020-11-15T15:35:58.890846Z",
     "shell.execute_reply": "2020-11-15T15:35:58.891319Z"
    },
    "papermill": {
     "duration": 0.031213,
     "end_time": "2020-11-15T15:35:58.891437",
     "exception": false,
     "start_time": "2020-11-15T15:35:58.860224",
     "status": "completed"
    },
    "tags": []
   },
   "outputs": [
    {
     "data": {
      "text/plain": [
       "(221532, 2)"
      ]
     },
     "execution_count": 5,
     "metadata": {},
     "output_type": "execute_result"
    }
   ],
   "source": [
    "data_df.shape"
   ]
  },
  {
   "cell_type": "code",
   "execution_count": 6,
   "metadata": {
    "execution": {
     "iopub.execute_input": "2020-11-15T15:35:58.948275Z",
     "iopub.status.busy": "2020-11-15T15:35:58.947550Z",
     "iopub.status.idle": "2020-11-15T15:36:00.824172Z",
     "shell.execute_reply": "2020-11-15T15:36:00.824660Z"
    },
    "papermill": {
     "duration": 1.908359,
     "end_time": "2020-11-15T15:36:00.824796",
     "exception": false,
     "start_time": "2020-11-15T15:35:58.916437",
     "status": "completed"
    },
    "tags": []
   },
   "outputs": [
    {
     "data": {
      "image/png": "[encoded data removed]",
      "text/plain": [
       "<Figure size 864x432 with 2 Axes>"
      ]
     },
     "metadata": {
      "needs_background": "light"
     },
     "output_type": "display_data"
    }
   ],
   "source": [
    "plt.figure(figsize=(12, 6))\n",
    "plt.style.use('ggplot')\n",
    "plt.subplot(1, 2, 1)\n",
    "sns.distplot(data_df['en'].str.split().apply(len))\n",
    "plt.title('Distribution of English sentences length')\n",
    "plt.xlabel('Length')\n",
    "\n",
    "plt.style.use('ggplot')\n",
    "plt.subplot(1, 2, 2)\n",
    "sns.distplot(data_df['de'].str.split().apply(len))\n",
    "plt.title('Distribution of German sentences length')\n",
    "plt.xlabel('Length')\n",
    "plt.show()"
   ]
  },
  {
   "cell_type": "code",
   "execution_count": 7,
   "metadata": {
    "execution": {
     "iopub.execute_input": "2020-11-15T15:36:00.879879Z",
     "iopub.status.busy": "2020-11-15T15:36:00.879070Z",
     "iopub.status.idle": "2020-11-15T15:36:00.881576Z",
     "shell.execute_reply": "2020-11-15T15:36:00.882045Z"
    },
    "papermill": {
     "duration": 0.03203,
     "end_time": "2020-11-15T15:36:00.882185",
     "exception": false,
     "start_time": "2020-11-15T15:36:00.850155",
     "status": "completed"
    },
    "tags": []
   },
   "outputs": [],
   "source": [
    "seq_len_en = 20\n",
    "seq_len_de = 20"
   ]
  },
  {
   "cell_type": "code",
   "execution_count": 8,
   "metadata": {
    "execution": {
     "iopub.execute_input": "2020-11-15T15:36:00.938751Z",
     "iopub.status.busy": "2020-11-15T15:36:00.937965Z",
     "iopub.status.idle": "2020-11-15T15:36:00.991153Z",
     "shell.execute_reply": "2020-11-15T15:36:00.991988Z"
    },
    "papermill": {
     "duration": 0.085305,
     "end_time": "2020-11-15T15:36:00.992229",
     "exception": false,
     "start_time": "2020-11-15T15:36:00.906924",
     "status": "completed"
    },
    "tags": []
   },
   "outputs": [
    {
     "name": "stdout",
     "output_type": "stream",
     "text": [
      "(199378, 2)\n",
      "(22154, 2)\n"
     ]
    }
   ],
   "source": [
    "train_df, valid_df = train_test_split(data_df, test_size=0.1, shuffle=True, random_state=28)\n",
    "\n",
    "train_df = train_df.reset_index(drop=True)\n",
    "valid_df = valid_df.reset_index(drop=True)\n",
    "\n",
    "print(train_df.shape)\n",
    "print(valid_df.shape)"
   ]
  },
  {
   "cell_type": "code",
   "execution_count": 9,
   "metadata": {
    "execution": {
     "iopub.execute_input": "2020-11-15T15:36:01.051659Z",
     "iopub.status.busy": "2020-11-15T15:36:01.050636Z",
     "iopub.status.idle": "2020-11-15T15:36:01.059351Z",
     "shell.execute_reply": "2020-11-15T15:36:01.058802Z"
    },
    "papermill": {
     "duration": 0.040715,
     "end_time": "2020-11-15T15:36:01.059457",
     "exception": false,
     "start_time": "2020-11-15T15:36:01.018742",
     "status": "completed"
    },
    "tags": []
   },
   "outputs": [
    {
     "name": "stdout",
     "output_type": "stream",
     "text": [
      "ENGLISH:\n",
      "I have the house all to myself.,\n",
      "GERMAN:\n",
      "Ich habe das Haus ganz für mich allein.\n",
      "============================================================================================\n",
      "ENGLISH:\n",
      "He lives in a big house.,\n",
      "GERMAN:\n",
      "Er wohnt in einem großen Haus.\n",
      "============================================================================================\n",
      "ENGLISH:\n",
      "This medicine tastes awful.,\n",
      "GERMAN:\n",
      "Diese Medizin schmeckt furchtbar.\n",
      "============================================================================================\n",
      "ENGLISH:\n",
      "You have to go there whether you like it or not.,\n",
      "GERMAN:\n",
      "Sie müssen sich dorthin begeben, ob es Ihnen gefällt oder nicht.\n",
      "============================================================================================\n",
      "ENGLISH:\n",
      "It's absolutely true.,\n",
      "GERMAN:\n",
      "Das ist die volle Wahrheit.\n",
      "============================================================================================\n"
     ]
    }
   ],
   "source": [
    "for i in range(len(train_df)-5, len(train_df)):\n",
    "    print(f'ENGLISH:\\n{train_df.iloc[i][\"en\"]},\\nGERMAN:\\n{train_df.iloc[i][\"de\"]}\\n{\"=\"*92}')"
   ]
  },
  {
   "cell_type": "code",
   "execution_count": 10,
   "metadata": {
    "execution": {
     "iopub.execute_input": "2020-11-15T15:36:01.231528Z",
     "iopub.status.busy": "2020-11-15T15:36:01.229274Z",
     "iopub.status.idle": "2020-11-15T15:36:01.232268Z",
     "shell.execute_reply": "2020-11-15T15:36:01.232872Z"
    },
    "papermill": {
     "duration": 0.147871,
     "end_time": "2020-11-15T15:36:01.233021",
     "exception": false,
     "start_time": "2020-11-15T15:36:01.085150",
     "status": "completed"
    },
    "tags": []
   },
   "outputs": [],
   "source": [
    "class Vocabulary:\n",
    "    def __init__(self, freq_threshold=2, language='en', preprocessor=None, reverse=False):\n",
    "        self.itos = {0: \"<pad>\", 1: \"<sos>\", 2: \"<eos>\", 3: \"<unk>\"}\n",
    "        self.stoi = {\"<pad>\": 0, \"<sos>\": 1, \"<eos>\": 2, \"<unk>\": 3}\n",
    "        self.tokenizer = spacy.load(language)\n",
    "        self.freq_threshold = freq_threshold\n",
    "        self.preprocessor = preprocessor\n",
    "        self.reverse = reverse\n",
    "\n",
    "    def __len__(self):\n",
    "        return len(self.itos)\n",
    "\n",
    "    def tokenize(self, text):\n",
    "        if self.reverse:\n",
    "            return [token.text.lower() for token in self.tokenizer.tokenizer(text)][::-1]\n",
    "        else:\n",
    "            return [token.text.lower() for token in self.tokenizer.tokenizer(text)]\n",
    "\n",
    "    def build_vocabulary(self, sentence_list):\n",
    "        frequencies = {}\n",
    "        idx = len(self.itos)\n",
    "\n",
    "        for sentence in sentence_list:\n",
    "            # Preprocess the sentence using given preprocessor.\n",
    "            if self.preprocessor:\n",
    "                sentence = self.preprocessor(sentence)\n",
    "\n",
    "            for word in self.tokenize(sentence):\n",
    "                if word in frequencies:\n",
    "                    frequencies[word] += 1\n",
    "                else:\n",
    "                    frequencies[word] = 1\n",
    "\n",
    "                if frequencies[word] == self.freq_threshold:\n",
    "                    self.stoi[word] = idx\n",
    "                    self.itos[idx] = word\n",
    "                    idx += 1\n",
    "\n",
    "    def numericalize(self, text):\n",
    "        tokenized_text = self.tokenize(text)\n",
    "\n",
    "        return [\n",
    "            self.stoi[token] if token in self.stoi else self.stoi[\"<unk>\"]\n",
    "            for token in tokenized_text\n",
    "        ]"
   ]
  },
  {
   "cell_type": "code",
   "execution_count": 11,
   "metadata": {
    "execution": {
     "iopub.execute_input": "2020-11-15T15:36:01.294693Z",
     "iopub.status.busy": "2020-11-15T15:36:01.293838Z",
     "iopub.status.idle": "2020-11-15T15:36:01.296578Z",
     "shell.execute_reply": "2020-11-15T15:36:01.296059Z"
    },
    "papermill": {
     "duration": 0.036293,
     "end_time": "2020-11-15T15:36:01.296675",
     "exception": false,
     "start_time": "2020-11-15T15:36:01.260382",
     "status": "completed"
    },
    "tags": []
   },
   "outputs": [],
   "source": [
    "# Converts the unicode file to ascii\n",
    "def unicode_to_ascii(s):\n",
    "    return ''.join(c for c in unicodedata.normalize('NFD', s) if unicodedata.category(c) != 'Mn')\n",
    "\n",
    "def preprocess_sentence(w):\n",
    "    w = unicode_to_ascii(w.lower().strip())\n",
    "\n",
    "    # creating a space between a word and the punctuation following it\n",
    "    # eg: \"he is a boy.\" => \"he is a boy .\"\n",
    "    # Reference:- https://stackoverflow.com/questions/3645931/python-padding-punctuation-with-white-spaces-keeping-punctuation\n",
    "    w = re.sub(r\"([?.!,¿])\", r\" \\1 \", w)\n",
    "    w = re.sub(r'[\" \"]+', \" \", w)\n",
    "\n",
    "    # replacing everything with space except (a-z, A-Z, \".\", \"?\", \"!\", \",\")\n",
    "    w = re.sub(r\"[^a-zA-Z?.!,¿]+\", \" \", w)\n",
    "\n",
    "    w = w.strip()\n",
    "    return w"
   ]
  },
  {
   "cell_type": "code",
   "execution_count": 12,
   "metadata": {
    "execution": {
     "iopub.execute_input": "2020-11-15T15:36:01.352809Z",
     "iopub.status.busy": "2020-11-15T15:36:01.351817Z",
     "iopub.status.idle": "2020-11-15T15:36:36.594224Z",
     "shell.execute_reply": "2020-11-15T15:36:36.594958Z"
    },
    "papermill": {
     "duration": 35.272188,
     "end_time": "2020-11-15T15:36:36.595161",
     "exception": false,
     "start_time": "2020-11-15T15:36:01.322973",
     "status": "completed"
    },
    "tags": []
   },
   "outputs": [
    {
     "name": "stdout",
     "output_type": "stream",
     "text": [
      "CPU times: user 34.8 s, sys: 165 ms, total: 34.9 s\n",
      "Wall time: 35.2 s\n"
     ]
    }
   ],
   "source": [
    "%%time\n",
    "# Build vocab using training data\n",
    "freq_threshold = 2\n",
    "en_vocab = Vocabulary(freq_threshold=freq_threshold, language=\"en\", preprocessor=preprocess_sentence, reverse=False)\n",
    "de_vocab = Vocabulary(freq_threshold=freq_threshold, language=\"de\", preprocessor=preprocess_sentence, reverse=True)\n",
    "\n",
    "# build vocab for both english and german\n",
    "en_vocab.build_vocabulary(train_df[\"en\"].tolist())\n",
    "de_vocab.build_vocabulary(train_df[\"de\"].tolist())"
   ]
  },
  {
   "cell_type": "code",
   "execution_count": 13,
   "metadata": {
    "execution": {
     "iopub.execute_input": "2020-11-15T15:36:36.687933Z",
     "iopub.status.busy": "2020-11-15T15:36:36.686742Z",
     "iopub.status.idle": "2020-11-15T15:36:36.692063Z",
     "shell.execute_reply": "2020-11-15T15:36:36.692806Z"
    },
    "papermill": {
     "duration": 0.058345,
     "end_time": "2020-11-15T15:36:36.692981",
     "exception": false,
     "start_time": "2020-11-15T15:36:36.634636",
     "status": "completed"
    },
    "tags": []
   },
   "outputs": [],
   "source": [
    "class CustomTranslationDataset(Dataset):    \n",
    "    def __init__(self, df, en_vocab, de_vocab):\n",
    "        super().__init__()\n",
    "        self.df = df\n",
    "        self.en_vocab = en_vocab\n",
    "        self.de_vocab = de_vocab\n",
    "        \n",
    "    def __len__(self):\n",
    "        return len(self.df)\n",
    "    \n",
    "    def _get_numericalized(self, sentence, vocab):\n",
    "        \"\"\"Numericalize given text using prebuilt vocab.\"\"\"\n",
    "        numericalized = [vocab.stoi[\"<sos>\"]]\n",
    "        numericalized.extend(vocab.numericalize(sentence))\n",
    "        numericalized.append(vocab.stoi[\"<eos>\"])\n",
    "        return numericalized\n",
    "\n",
    "    def __getitem__(self, index):\n",
    "        en_numericalized = self._get_numericalized(self.df.iloc[index][\"en\"], self.en_vocab)\n",
    "        de_numericalized = self._get_numericalized(self.df.iloc[index][\"de\"], self.de_vocab)\n",
    "\n",
    "        return torch.tensor(de_numericalized), torch.tensor(en_numericalized)"
   ]
  },
  {
   "cell_type": "code",
   "execution_count": 14,
   "metadata": {
    "execution": {
     "iopub.execute_input": "2020-11-15T15:36:36.802792Z",
     "iopub.status.busy": "2020-11-15T15:36:36.802037Z",
     "iopub.status.idle": "2020-11-15T15:36:36.806258Z",
     "shell.execute_reply": "2020-11-15T15:36:36.806825Z"
    },
    "papermill": {
     "duration": 0.06439,
     "end_time": "2020-11-15T15:36:36.806970",
     "exception": false,
     "start_time": "2020-11-15T15:36:36.742580",
     "status": "completed"
    },
    "tags": []
   },
   "outputs": [],
   "source": [
    "class CustomCollate:\n",
    "    def __init__(self, pad_idx):\n",
    "        self.pad_idx = pad_idx\n",
    "\n",
    "    def __call__(self, batch):\n",
    "        src = [item[0] for item in batch]\n",
    "        src = pad_sequence(src, batch_first=False, padding_value=self.pad_idx)\n",
    "        \n",
    "        targets = [item[1] for item in batch]\n",
    "        targets = pad_sequence(targets, batch_first=False, padding_value=self.pad_idx)\n",
    "\n",
    "        return src, targets"
   ]
  },
  {
   "cell_type": "code",
   "execution_count": 15,
   "metadata": {
    "execution": {
     "iopub.execute_input": "2020-11-15T15:36:36.888161Z",
     "iopub.status.busy": "2020-11-15T15:36:36.887441Z",
     "iopub.status.idle": "2020-11-15T15:36:36.890999Z",
     "shell.execute_reply": "2020-11-15T15:36:36.892229Z"
    },
    "papermill": {
     "duration": 0.051042,
     "end_time": "2020-11-15T15:36:36.892367",
     "exception": false,
     "start_time": "2020-11-15T15:36:36.841325",
     "status": "completed"
    },
    "tags": []
   },
   "outputs": [],
   "source": [
    "BATCH_SIZE = 256\n",
    "\n",
    "# Define dataset and dataloader\n",
    "train_dataset = CustomTranslationDataset(train_df, en_vocab, de_vocab)\n",
    "valid_dataset = CustomTranslationDataset(valid_df, en_vocab, de_vocab)\n",
    "\n",
    "train_loader = DataLoader(\n",
    "    dataset=train_dataset,\n",
    "    batch_size=BATCH_SIZE,\n",
    "    num_workers=4,\n",
    "    shuffle=False,\n",
    "    collate_fn=CustomCollate(pad_idx=en_vocab.stoi[\"<pad>\"])\n",
    ")\n",
    "\n",
    "valid_loader = DataLoader(\n",
    "    dataset=valid_dataset,\n",
    "    batch_size=BATCH_SIZE,\n",
    "    num_workers=4,\n",
    "    shuffle=False,\n",
    "    collate_fn=CustomCollate(pad_idx=en_vocab.stoi[\"<pad>\"])\n",
    ")"
   ]
  },
  {
   "cell_type": "code",
   "execution_count": 16,
   "metadata": {
    "execution": {
     "iopub.execute_input": "2020-11-15T15:36:36.979563Z",
     "iopub.status.busy": "2020-11-15T15:36:36.978576Z",
     "iopub.status.idle": "2020-11-15T15:36:36.981186Z",
     "shell.execute_reply": "2020-11-15T15:36:36.980403Z"
    },
    "papermill": {
     "duration": 0.051035,
     "end_time": "2020-11-15T15:36:36.981330",
     "exception": false,
     "start_time": "2020-11-15T15:36:36.930295",
     "status": "completed"
    },
    "tags": []
   },
   "outputs": [],
   "source": [
    "fun_de = np.vectorize(lambda x: de_vocab.itos[x])\n",
    "fun_en = np.vectorize(lambda x: en_vocab.itos[x])"
   ]
  },
  {
   "cell_type": "code",
   "execution_count": 17,
   "metadata": {
    "execution": {
     "iopub.execute_input": "2020-11-15T15:36:37.057650Z",
     "iopub.status.busy": "2020-11-15T15:36:37.056776Z",
     "iopub.status.idle": "2020-11-15T15:36:37.060003Z",
     "shell.execute_reply": "2020-11-15T15:36:37.058360Z"
    },
    "papermill": {
     "duration": 0.047555,
     "end_time": "2020-11-15T15:36:37.060133",
     "exception": false,
     "start_time": "2020-11-15T15:36:37.012578",
     "status": "completed"
    },
    "tags": []
   },
   "outputs": [
    {
     "name": "stdout",
     "output_type": "stream",
     "text": [
      "Unique tokens in source (de) vocabulary: 18315\n",
      "Unique tokens in target (en) vocabulary: 10655\n"
     ]
    }
   ],
   "source": [
    "print(f\"Unique tokens in source (de) vocabulary: {len(de_vocab)}\")\n",
    "print(f\"Unique tokens in target (en) vocabulary: {len(en_vocab)}\")"
   ]
  },
  {
   "cell_type": "code",
   "execution_count": 18,
   "metadata": {
    "execution": {
     "iopub.execute_input": "2020-11-15T15:36:37.621926Z",
     "iopub.status.busy": "2020-11-15T15:36:37.621285Z",
     "iopub.status.idle": "2020-11-15T15:36:37.627300Z",
     "shell.execute_reply": "2020-11-15T15:36:37.627750Z"
    },
    "papermill": {
     "duration": 0.52922,
     "end_time": "2020-11-15T15:36:37.627888",
     "exception": false,
     "start_time": "2020-11-15T15:36:37.098668",
     "status": "completed"
    },
    "tags": []
   },
   "outputs": [
    {
     "data": {
      "text/plain": [
       "device(type='cuda')"
      ]
     },
     "execution_count": 18,
     "metadata": {},
     "output_type": "execute_result"
    }
   ],
   "source": [
    "device = torch.device('cuda' if torch.cuda.is_available() else 'cpu')\n",
    "device"
   ]
  },
  {
   "cell_type": "markdown",
   "metadata": {
    "papermill": {
     "duration": 0.027711,
     "end_time": "2020-11-15T15:36:37.683816",
     "exception": false,
     "start_time": "2020-11-15T15:36:37.656105",
     "status": "completed"
    },
    "tags": []
   },
   "source": [
    "## Modeling"
   ]
  },
  {
   "cell_type": "code",
   "execution_count": 19,
   "metadata": {
    "execution": {
     "iopub.execute_input": "2020-11-15T15:36:37.752484Z",
     "iopub.status.busy": "2020-11-15T15:36:37.747285Z",
     "iopub.status.idle": "2020-11-15T15:36:37.765224Z",
     "shell.execute_reply": "2020-11-15T15:36:37.764703Z"
    },
    "papermill": {
     "duration": 0.053687,
     "end_time": "2020-11-15T15:36:37.765319",
     "exception": false,
     "start_time": "2020-11-15T15:36:37.711632",
     "status": "completed"
    },
    "tags": []
   },
   "outputs": [],
   "source": [
    "class Encoder(nn.Module):\n",
    "    def __init__(self, input_dim, emb_dim, hidden_dim, n_layers, dropout=0.2):\n",
    "        super().__init__()\n",
    "        self.hidden_dim = hidden_dim\n",
    "        self.n_layers = n_layers\n",
    "        self.embedding = nn.Embedding(input_dim, emb_dim)\n",
    "        self.lstm = nn.LSTM(emb_dim, hidden_dim, n_layers, dropout=dropout)\n",
    "        self.dropout = nn.Dropout(dropout)\n",
    "    \n",
    "    def forward(self, x):\n",
    "        x = self.embedding(x)\n",
    "        x = self.dropout(x)\n",
    "        outputs, (hidden_state, cell_state) = self.lstm(x)\n",
    "        \n",
    "        return hidden_state, cell_state\n",
    "\n",
    "class Decoder(nn.Module):\n",
    "    def __init__(self, output_dim, emb_dim, hidden_dim, n_layers, dropout=0.2):\n",
    "        super().__init__()\n",
    "        self.output_dim = output_dim\n",
    "        self.hidden_dim = hidden_dim\n",
    "        self.n_layers = n_layers\n",
    "        self.embedding = nn.Embedding(output_dim, emb_dim)\n",
    "        self.lstm = nn.LSTM(emb_dim, hidden_dim, n_layers, dropout=dropout)\n",
    "        self.dropout = nn.Dropout(dropout)\n",
    "        self.fc = nn.Linear(hidden_dim, output_dim)\n",
    "    \n",
    "    def forward(self, x, hidden_state, cell_state):\n",
    "        x = x.unsqueeze(0)\n",
    "        x = self.embedding(x)\n",
    "        x = self.dropout(x)\n",
    "        outputs, (hidden_state, cell_state) = self.lstm(x, (hidden_state, cell_state))\n",
    "        preds = self.fc(outputs.squeeze(0))\n",
    "        return preds, hidden_state, cell_state\n",
    "\n",
    "class EncoderDecoder(nn.Module):\n",
    "    def __init__(self, encoder, decoder):\n",
    "        super().__init__()\n",
    "        self.encoder = encoder\n",
    "        self.decoder = decoder\n",
    "        \n",
    "        assert self.encoder.hidden_dim == decoder.hidden_dim\n",
    "        assert self.encoder.n_layers == decoder.n_layers\n",
    "    \n",
    "    def forward(self, x, y, teacher_forcing_ratio=0.75):\n",
    "        \n",
    "        target_len = y.shape[0]\n",
    "        batch_size = y.shape[1]\n",
    "        target_vocab_size = self.decoder.output_dim  # Output dim\n",
    "        \n",
    "        outputs = torch.zeros(target_len, batch_size, target_vocab_size).to(device)\n",
    "        \n",
    "        # Encode the source text using encoder\n",
    "        hidden_state, cell_state = self.encoder(x)\n",
    "        \n",
    "        # First input is <sos>\n",
    "        input = y[0,:]\n",
    "        \n",
    "        # Decode the encoded vector using decoder\n",
    "        for t in range(1, target_len):\n",
    "            output, hidden_state, cell_state = self.decoder(input, hidden_state, cell_state)\n",
    "            outputs[t] = output\n",
    "            teacher_force = random.random() < teacher_forcing_ratio\n",
    "            pred = output.argmax(1)\n",
    "            input = y[t] if teacher_force else pred\n",
    "        \n",
    "        return outputs"
   ]
  },
  {
   "cell_type": "code",
   "execution_count": 20,
   "metadata": {
    "execution": {
     "iopub.execute_input": "2020-11-15T15:36:37.827615Z",
     "iopub.status.busy": "2020-11-15T15:36:37.826950Z",
     "iopub.status.idle": "2020-11-15T15:36:42.532269Z",
     "shell.execute_reply": "2020-11-15T15:36:42.531658Z"
    },
    "papermill": {
     "duration": 4.738975,
     "end_time": "2020-11-15T15:36:42.532410",
     "exception": false,
     "start_time": "2020-11-15T15:36:37.793435",
     "status": "completed"
    },
    "tags": []
   },
   "outputs": [],
   "source": [
    "# Initialize all models\n",
    "input_dim = len(de_vocab)\n",
    "output_dim = len(en_vocab)\n",
    "emb_dim = 256\n",
    "hidden_dim = 512\n",
    "n_layers = 4\n",
    "dropout = 0.4\n",
    "\n",
    "encoder = Encoder(input_dim, emb_dim, hidden_dim, n_layers, dropout)\n",
    "decoder = Decoder(output_dim, emb_dim, hidden_dim, n_layers, dropout)\n",
    "model = EncoderDecoder(encoder, decoder).to(device)"
   ]
  },
  {
   "cell_type": "code",
   "execution_count": 21,
   "metadata": {
    "execution": {
     "iopub.execute_input": "2020-11-15T15:36:42.594918Z",
     "iopub.status.busy": "2020-11-15T15:36:42.594088Z",
     "iopub.status.idle": "2020-11-15T15:36:42.602278Z",
     "shell.execute_reply": "2020-11-15T15:36:42.601783Z"
    },
    "papermill": {
     "duration": 0.041125,
     "end_time": "2020-11-15T15:36:42.602377",
     "exception": false,
     "start_time": "2020-11-15T15:36:42.561252",
     "status": "completed"
    },
    "tags": []
   },
   "outputs": [
    {
     "data": {
      "text/plain": [
       "EncoderDecoder(\n",
       "  (encoder): Encoder(\n",
       "    (embedding): Embedding(18315, 256)\n",
       "    (lstm): LSTM(256, 512, num_layers=4, dropout=0.4)\n",
       "    (dropout): Dropout(p=0.4, inplace=False)\n",
       "  )\n",
       "  (decoder): Decoder(\n",
       "    (embedding): Embedding(10655, 256)\n",
       "    (lstm): LSTM(256, 512, num_layers=4, dropout=0.4)\n",
       "    (dropout): Dropout(p=0.4, inplace=False)\n",
       "    (fc): Linear(in_features=512, out_features=10655, bias=True)\n",
       "  )\n",
       ")"
      ]
     },
     "execution_count": 21,
     "metadata": {},
     "output_type": "execute_result"
    }
   ],
   "source": [
    "# Initialized weights as defined in paper\n",
    "def init_weights(m):\n",
    "    for name, param in m.named_parameters():\n",
    "        nn.init.uniform_(param.data, -0.08, 0.08)\n",
    "        \n",
    "model.apply(init_weights)"
   ]
  },
  {
   "cell_type": "code",
   "execution_count": 22,
   "metadata": {
    "execution": {
     "iopub.execute_input": "2020-11-15T15:36:42.665964Z",
     "iopub.status.busy": "2020-11-15T15:36:42.665062Z",
     "iopub.status.idle": "2020-11-15T15:36:42.669426Z",
     "shell.execute_reply": "2020-11-15T15:36:42.670055Z"
    },
    "papermill": {
     "duration": 0.038503,
     "end_time": "2020-11-15T15:36:42.670214",
     "exception": false,
     "start_time": "2020-11-15T15:36:42.631711",
     "status": "completed"
    },
    "tags": []
   },
   "outputs": [
    {
     "name": "stdout",
     "output_type": "stream",
     "text": [
      "The model has 28,643,743 trainable parameters\n"
     ]
    }
   ],
   "source": [
    "def count_parameters(model):\n",
    "    return sum(p.numel() for p in model.parameters() if p.requires_grad)\n",
    "\n",
    "print(f'The model has {count_parameters(model):,} trainable parameters')"
   ]
  },
  {
   "cell_type": "code",
   "execution_count": 23,
   "metadata": {
    "execution": {
     "iopub.execute_input": "2020-11-15T15:36:42.734445Z",
     "iopub.status.busy": "2020-11-15T15:36:42.733598Z",
     "iopub.status.idle": "2020-11-15T15:36:42.735880Z",
     "shell.execute_reply": "2020-11-15T15:36:42.736454Z"
    },
    "papermill": {
     "duration": 0.036518,
     "end_time": "2020-11-15T15:36:42.736564",
     "exception": false,
     "start_time": "2020-11-15T15:36:42.700046",
     "status": "completed"
    },
    "tags": []
   },
   "outputs": [],
   "source": [
    "optimizer = optim.Adam(model.parameters())\n",
    "criterion = nn.CrossEntropyLoss(ignore_index=en_vocab.stoi[\"<pad>\"])"
   ]
  },
  {
   "cell_type": "code",
   "execution_count": 24,
   "metadata": {
    "execution": {
     "iopub.execute_input": "2020-11-15T15:36:42.805680Z",
     "iopub.status.busy": "2020-11-15T15:36:42.804851Z",
     "iopub.status.idle": "2020-11-15T15:36:42.807715Z",
     "shell.execute_reply": "2020-11-15T15:36:42.807252Z"
    },
    "papermill": {
     "duration": 0.042089,
     "end_time": "2020-11-15T15:36:42.807808",
     "exception": false,
     "start_time": "2020-11-15T15:36:42.765719",
     "status": "completed"
    },
    "tags": []
   },
   "outputs": [],
   "source": [
    "def train(model, iterator, optimizer, criterion, clip):\n",
    "    model.train()\n",
    "    epoch_loss = 0\n",
    "    \n",
    "    for i, batch in tqdm(enumerate(iterator), total=len(iterator), position=0, leave=True):\n",
    "        src = batch[0].to(device)\n",
    "        trg = batch[1].to(device)\n",
    "\n",
    "        optimizer.zero_grad()\n",
    "        \n",
    "        output = model(src, trg)\n",
    "        \n",
    "        #trg = [trg len, batch size]\n",
    "        #output = [trg len, batch size, output dim]\n",
    "        \n",
    "        output_dim = output.shape[-1]\n",
    "        output = output[1:].view(-1, output_dim)\n",
    "        trg = trg[1:].view(-1)\n",
    "        \n",
    "        #trg = [(trg len - 1) * batch size]\n",
    "        #output = [(trg len - 1) * batch size, output dim]\n",
    "        \n",
    "        loss = criterion(output, trg)\n",
    "        loss.backward()\n",
    "        torch.nn.utils.clip_grad_norm_(model.parameters(), clip)\n",
    "        optimizer.step()\n",
    "        epoch_loss += loss.item()\n",
    "        \n",
    "    return epoch_loss / len(iterator)"
   ]
  },
  {
   "cell_type": "code",
   "execution_count": 25,
   "metadata": {
    "execution": {
     "iopub.execute_input": "2020-11-15T15:36:42.876387Z",
     "iopub.status.busy": "2020-11-15T15:36:42.875578Z",
     "iopub.status.idle": "2020-11-15T15:36:42.878520Z",
     "shell.execute_reply": "2020-11-15T15:36:42.878031Z"
    },
    "papermill": {
     "duration": 0.041089,
     "end_time": "2020-11-15T15:36:42.878615",
     "exception": false,
     "start_time": "2020-11-15T15:36:42.837526",
     "status": "completed"
    },
    "tags": []
   },
   "outputs": [],
   "source": [
    "def evaluate(model, iterator, criterion):\n",
    "    model.eval()    \n",
    "    epoch_loss = 0\n",
    "\n",
    "    with torch.no_grad():\n",
    "        for i, batch in tqdm(enumerate(iterator), total=len(iterator), position=0, leave=True):\n",
    "            src = batch[0].to(device)\n",
    "            trg = batch[1].to(device)\n",
    "\n",
    "            output = model(src, trg, 0) #turn off teacher forcing\n",
    "\n",
    "            #trg = [trg len, batch size]\n",
    "            #output = [trg len, batch size, output dim]\n",
    "\n",
    "            output_dim = output.shape[-1]\n",
    "            output = output[1:].view(-1, output_dim)\n",
    "            trg = trg[1:].view(-1)\n",
    "\n",
    "            #trg = [(trg len - 1) * batch size]\n",
    "            #output = [(trg len - 1) * batch size, output dim]\n",
    "\n",
    "            loss = criterion(output, trg)\n",
    "            epoch_loss += loss.item()\n",
    "        \n",
    "    return epoch_loss / len(iterator)"
   ]
  },
  {
   "cell_type": "code",
   "execution_count": 26,
   "metadata": {
    "execution": {
     "iopub.execute_input": "2020-11-15T15:36:42.946877Z",
     "iopub.status.busy": "2020-11-15T15:36:42.946074Z",
     "iopub.status.idle": "2020-11-15T15:36:42.948448Z",
     "shell.execute_reply": "2020-11-15T15:36:42.949004Z"
    },
    "papermill": {
     "duration": 0.041085,
     "end_time": "2020-11-15T15:36:42.949107",
     "exception": false,
     "start_time": "2020-11-15T15:36:42.908022",
     "status": "completed"
    },
    "tags": []
   },
   "outputs": [],
   "source": [
    "def inference(model, sentence):\n",
    "    model.eval()\n",
    "    result = []\n",
    "\n",
    "    with torch.no_grad():\n",
    "        sentence = sentence.to(device)\n",
    "        \n",
    "        hidden_state, cell_state = model.encoder(sentence)\n",
    "\n",
    "        # First input to decoder is \"<sos>\"\n",
    "        inp = torch.tensor([en_vocab.stoi[\"<sos>\"]]).to(device)\n",
    "\n",
    "        # Decode the encoded vector using decoder until max length is reached or <eos> is generated.\n",
    "        for t in range(1, seq_len_en):\n",
    "            output, hidden_state, cell_state = model.decoder(inp, hidden_state, cell_state)\n",
    "            pred = output.argmax(1)\n",
    "            if pred == en_vocab.stoi[\"<eos>\"]:\n",
    "                break\n",
    "            result.append(en_vocab.itos[pred.item()])\n",
    "            inp = pred\n",
    "            \n",
    "    return \" \".join(result)"
   ]
  },
  {
   "cell_type": "code",
   "execution_count": 27,
   "metadata": {
    "execution": {
     "iopub.execute_input": "2020-11-15T15:36:43.021475Z",
     "iopub.status.busy": "2020-11-15T15:36:43.020577Z",
     "iopub.status.idle": "2020-11-15T15:36:43.023355Z",
     "shell.execute_reply": "2020-11-15T15:36:43.022873Z"
    },
    "papermill": {
     "duration": 0.042859,
     "end_time": "2020-11-15T15:36:43.023459",
     "exception": false,
     "start_time": "2020-11-15T15:36:42.980600",
     "status": "completed"
    },
    "tags": []
   },
   "outputs": [],
   "source": [
    "def epoch_time(start_time, end_time):\n",
    "    elapsed_time = end_time - start_time\n",
    "    elapsed_mins = int(elapsed_time / 60)\n",
    "    elapsed_secs = int(elapsed_time - (elapsed_mins * 60))\n",
    "    return elapsed_mins, elapsed_secs"
   ]
  },
  {
   "cell_type": "code",
   "execution_count": 28,
   "metadata": {
    "execution": {
     "iopub.execute_input": "2020-11-15T15:36:43.090587Z",
     "iopub.status.busy": "2020-11-15T15:36:43.089673Z",
     "iopub.status.idle": "2020-11-15T15:36:44.155839Z",
     "shell.execute_reply": "2020-11-15T15:36:44.154764Z"
    },
    "papermill": {
     "duration": 1.101517,
     "end_time": "2020-11-15T15:36:44.155957",
     "exception": false,
     "start_time": "2020-11-15T15:36:43.054440",
     "status": "completed"
    },
    "tags": []
   },
   "outputs": [],
   "source": [
    "for sample_batch in valid_loader:\n",
    "    break"
   ]
  },
  {
   "cell_type": "code",
   "execution_count": 29,
   "metadata": {
    "execution": {
     "iopub.execute_input": "2020-11-15T15:36:44.231868Z",
     "iopub.status.busy": "2020-11-15T15:36:44.230805Z",
     "iopub.status.idle": "2020-11-15T16:58:32.132702Z",
     "shell.execute_reply": "2020-11-15T16:58:32.132188Z"
    },
    "papermill": {
     "duration": 4907.946401,
     "end_time": "2020-11-15T16:58:32.132821",
     "exception": false,
     "start_time": "2020-11-15T15:36:44.186420",
     "status": "completed"
    },
    "tags": []
   },
   "outputs": [
    {
     "name": "stderr",
     "output_type": "stream",
     "text": [
      "100%|██████████| 779/779 [06:07<00:00,  2.12it/s]\n",
      "100%|██████████| 87/87 [00:26<00:00,  3.22it/s]\n"
     ]
    },
    {
     "name": "stdout",
     "output_type": "stream",
     "text": [
      "Epoch: 01 | Time: 6m 35s\n",
      "\t Train Loss: 4.530 | Train PPL:  92.759\n",
      "\t Val. Loss: 4.697 |  Val. PPL: 109.649\n",
      "\t Sample Source (German): ? sind kinder deine wo , du <unk>\n",
      "\t Sample Target (English): do you know where your children are ?\n",
      "\t Generated: do you have to to do that ?\n",
      "\n"
     ]
    },
    {
     "name": "stderr",
     "output_type": "stream",
     "text": [
      "100%|██████████| 779/779 [06:12<00:00,  2.09it/s]\n",
      "100%|██████████| 87/87 [00:27<00:00,  3.18it/s]\n"
     ]
    },
    {
     "name": "stdout",
     "output_type": "stream",
     "text": [
      "Epoch: 02 | Time: 6m 39s\n",
      "\t Train Loss: 3.556 | Train PPL:  35.031\n",
      "\t Val. Loss: 4.164 |  Val. PPL:  64.348\n",
      "\t Sample Source (German): ? sind kinder deine wo , du <unk>\n",
      "\t Sample Target (English): do you know where your children are ?\n",
      "\t Generated: do you have to go to boston ?\n",
      "\n"
     ]
    },
    {
     "name": "stderr",
     "output_type": "stream",
     "text": [
      "100%|██████████| 779/779 [06:14<00:00,  2.08it/s]\n",
      "100%|██████████| 87/87 [00:28<00:00,  3.03it/s]\n"
     ]
    },
    {
     "name": "stdout",
     "output_type": "stream",
     "text": [
      "Epoch: 03 | Time: 6m 43s\n",
      "\t Train Loss: 3.067 | Train PPL:  21.471\n",
      "\t Val. Loss: 3.933 |  Val. PPL:  51.042\n",
      "\t Sample Source (German): ? sind kinder deine wo , du <unk>\n",
      "\t Sample Target (English): do you know where your children are ?\n",
      "\t Generated: do you know where to play a ? ?\n",
      "\n"
     ]
    },
    {
     "name": "stderr",
     "output_type": "stream",
     "text": [
      "100%|██████████| 779/779 [06:16<00:00,  2.07it/s]\n",
      "100%|██████████| 87/87 [00:29<00:00,  2.99it/s]\n"
     ]
    },
    {
     "name": "stdout",
     "output_type": "stream",
     "text": [
      "Epoch: 04 | Time: 6m 45s\n",
      "\t Train Loss: 2.698 | Train PPL:  14.857\n",
      "\t Val. Loss: 3.586 |  Val. PPL:  36.079\n",
      "\t Sample Source (German): ? sind kinder deine wo , du <unk>\n",
      "\t Sample Target (English): do you know where your children are ?\n",
      "\t Generated: do you know where you <unk> been ?\n",
      "\n"
     ]
    },
    {
     "name": "stderr",
     "output_type": "stream",
     "text": [
      "100%|██████████| 779/779 [06:18<00:00,  2.06it/s]\n",
      "100%|██████████| 87/87 [00:28<00:00,  3.07it/s]\n"
     ]
    },
    {
     "name": "stdout",
     "output_type": "stream",
     "text": [
      "Epoch: 05 | Time: 6m 46s\n",
      "\t Train Loss: 2.396 | Train PPL:  10.975\n",
      "\t Val. Loss: 3.448 |  Val. PPL:  31.433\n",
      "\t Sample Source (German): ? sind kinder deine wo , du <unk>\n",
      "\t Sample Target (English): do you know where your children are ?\n",
      "\t Generated: do you know what you <unk> last ?\n",
      "\n"
     ]
    },
    {
     "name": "stderr",
     "output_type": "stream",
     "text": [
      "100%|██████████| 779/779 [06:19<00:00,  2.05it/s]\n",
      "100%|██████████| 87/87 [00:28<00:00,  3.05it/s]\n"
     ]
    },
    {
     "name": "stdout",
     "output_type": "stream",
     "text": [
      "Epoch: 06 | Time: 6m 48s\n",
      "\t Train Loss: 2.165 | Train PPL:   8.713\n",
      "\t Val. Loss: 3.282 |  Val. PPL:  26.629\n",
      "\t Sample Source (German): ? sind kinder deine wo , du <unk>\n",
      "\t Sample Target (English): do you know where your children are ?\n",
      "\t Generated: do you know where you <unk> kids ?\n",
      "\n"
     ]
    },
    {
     "name": "stderr",
     "output_type": "stream",
     "text": [
      "100%|██████████| 779/779 [06:20<00:00,  2.04it/s]\n",
      "100%|██████████| 87/87 [00:28<00:00,  3.01it/s]\n"
     ]
    },
    {
     "name": "stdout",
     "output_type": "stream",
     "text": [
      "Epoch: 07 | Time: 6m 50s\n",
      "\t Train Loss: 1.992 | Train PPL:   7.330\n",
      "\t Val. Loss: 3.073 |  Val. PPL:  21.612\n",
      "\t Sample Source (German): ? sind kinder deine wo , du <unk>\n",
      "\t Sample Target (English): do you know where your children are ?\n",
      "\t Generated: do you know where you are kids ?\n",
      "\n"
     ]
    },
    {
     "name": "stderr",
     "output_type": "stream",
     "text": [
      "100%|██████████| 779/779 [06:22<00:00,  2.04it/s]\n",
      "100%|██████████| 87/87 [00:30<00:00,  2.86it/s]\n"
     ]
    },
    {
     "name": "stdout",
     "output_type": "stream",
     "text": [
      "Epoch: 08 | Time: 6m 53s\n",
      "\t Train Loss: 1.841 | Train PPL:   6.302\n",
      "\t Val. Loss: 3.021 |  Val. PPL:  20.511\n",
      "\t Sample Source (German): ? sind kinder deine wo , du <unk>\n",
      "\t Sample Target (English): do you know where your children are ?\n",
      "\t Generated: do you know where you are kids ?\n",
      "\n"
     ]
    },
    {
     "name": "stderr",
     "output_type": "stream",
     "text": [
      "100%|██████████| 779/779 [06:23<00:00,  2.03it/s]\n",
      "100%|██████████| 87/87 [00:28<00:00,  3.02it/s]\n"
     ]
    },
    {
     "name": "stdout",
     "output_type": "stream",
     "text": [
      "Epoch: 09 | Time: 6m 53s\n",
      "\t Train Loss: 1.705 | Train PPL:   5.499\n",
      "\t Val. Loss: 2.928 |  Val. PPL:  18.683\n",
      "\t Sample Source (German): ? sind kinder deine wo , du <unk>\n",
      "\t Sample Target (English): do you know where your children are ?\n",
      "\t Generated: do you know where your children are ?\n",
      "\n"
     ]
    },
    {
     "name": "stderr",
     "output_type": "stream",
     "text": [
      "100%|██████████| 779/779 [06:27<00:00,  2.01it/s]\n",
      "100%|██████████| 87/87 [00:30<00:00,  2.85it/s]\n"
     ]
    },
    {
     "name": "stdout",
     "output_type": "stream",
     "text": [
      "Epoch: 10 | Time: 6m 58s\n",
      "\t Train Loss: 1.606 | Train PPL:   4.984\n",
      "\t Val. Loss: 2.875 |  Val. PPL:  17.729\n",
      "\t Sample Source (German): ? sind kinder deine wo , du <unk>\n",
      "\t Sample Target (English): do you know where your children are ?\n",
      "\t Generated: do you know where your children are ?\n",
      "\n"
     ]
    },
    {
     "name": "stderr",
     "output_type": "stream",
     "text": [
      "100%|██████████| 779/779 [06:21<00:00,  2.04it/s]\n",
      "100%|██████████| 87/87 [00:30<00:00,  2.83it/s]\n"
     ]
    },
    {
     "name": "stdout",
     "output_type": "stream",
     "text": [
      "Epoch: 11 | Time: 6m 52s\n",
      "\t Train Loss: 1.511 | Train PPL:   4.531\n",
      "\t Val. Loss: 2.844 |  Val. PPL:  17.184\n",
      "\t Sample Source (German): ? sind kinder deine wo , du <unk>\n",
      "\t Sample Target (English): do you know where your children are ?\n",
      "\t Generated: do you know where your children are ?\n",
      "\n"
     ]
    },
    {
     "name": "stderr",
     "output_type": "stream",
     "text": [
      "100%|██████████| 779/779 [06:26<00:00,  2.02it/s]\n",
      "100%|██████████| 87/87 [00:29<00:00,  2.97it/s]\n"
     ]
    },
    {
     "name": "stdout",
     "output_type": "stream",
     "text": [
      "Epoch: 12 | Time: 6m 55s\n",
      "\t Train Loss: 1.442 | Train PPL:   4.228\n",
      "\t Val. Loss: 2.800 |  Val. PPL:  16.440\n",
      "\t Sample Source (German): ? sind kinder deine wo , du <unk>\n",
      "\t Sample Target (English): do you know where your children are ?\n",
      "\t Generated: do you know where they are kids ?\n",
      "\n"
     ]
    }
   ],
   "source": [
    "N_EPOCHS = 12\n",
    "CLIP = 1\n",
    "\n",
    "best_valid_loss = float('inf')\n",
    "\n",
    "sample_source = ' '.join([word for word in fun_de(sample_batch[0][:, 101]) if word not in [\"<pad>\", \"<sos>\", \"<eos>\"]])\n",
    "sample_target = ' '.join([word for word in fun_en(sample_batch[1][:, 101]) if word not in [\"<pad>\", \"<sos>\", \"<eos>\"]])\n",
    "\n",
    "for epoch in range(N_EPOCHS):\n",
    "    \n",
    "    start_time = time.time()\n",
    "    \n",
    "    train_loss = train(model, train_loader, optimizer, criterion, CLIP)\n",
    "    valid_loss = evaluate(model, valid_loader, criterion)\n",
    "    \n",
    "    end_time = time.time()\n",
    "    \n",
    "    epoch_mins, epoch_secs = epoch_time(start_time, end_time)\n",
    "    \n",
    "    if valid_loss < best_valid_loss:\n",
    "        best_valid_loss = valid_loss\n",
    "        torch.save(model.state_dict(), 'best_model.pt')\n",
    "    \n",
    "    print(f'Epoch: {epoch+1:02} | Time: {epoch_mins}m {epoch_secs}s')\n",
    "    print(f'\\t Train Loss: {train_loss:.3f} | Train PPL: {math.exp(train_loss):7.3f}')\n",
    "    print(f'\\t Val. Loss: {valid_loss:.3f} |  Val. PPL: {math.exp(valid_loss):7.3f}')\n",
    "    print(f'\\t Sample Source (German): {sample_source}')\n",
    "    print(f'\\t Sample Target (English): {sample_target}')\n",
    "    print(f'\\t Generated: {inference(model, sample_batch[0][:, 101].reshape(-1, 1))}\\n')"
   ]
  },
  {
   "cell_type": "code",
   "execution_count": 30,
   "metadata": {
    "execution": {
     "iopub.execute_input": "2020-11-15T16:58:39.940244Z",
     "iopub.status.busy": "2020-11-15T16:58:39.939193Z",
     "iopub.status.idle": "2020-11-15T16:58:40.007973Z",
     "shell.execute_reply": "2020-11-15T16:58:40.008502Z"
    },
    "papermill": {
     "duration": 3.805112,
     "end_time": "2020-11-15T16:58:40.008645",
     "exception": false,
     "start_time": "2020-11-15T16:58:36.203533",
     "status": "completed"
    },
    "tags": []
   },
   "outputs": [
    {
     "data": {
      "text/plain": [
       "<All keys matched successfully>"
      ]
     },
     "execution_count": 30,
     "metadata": {},
     "output_type": "execute_result"
    }
   ],
   "source": [
    "# Load the best model.\n",
    "model_path = \"./best_model.pt\"\n",
    "model.load_state_dict(torch.load(model_path))"
   ]
  },
  {
   "cell_type": "markdown",
   "metadata": {
    "papermill": {
     "duration": 4.042625,
     "end_time": "2020-11-15T16:58:47.737429",
     "exception": false,
     "start_time": "2020-11-15T16:58:43.694804",
     "status": "completed"
    },
    "tags": []
   },
   "source": [
    "## Results"
   ]
  },
  {
   "cell_type": "code",
   "execution_count": 31,
   "metadata": {
    "execution": {
     "iopub.execute_input": "2020-11-15T16:58:55.302511Z",
     "iopub.status.busy": "2020-11-15T16:58:55.301460Z",
     "iopub.status.idle": "2020-11-15T16:58:55.573140Z",
     "shell.execute_reply": "2020-11-15T16:58:55.574177Z"
    },
    "papermill": {
     "duration": 4.087764,
     "end_time": "2020-11-15T16:58:55.574359",
     "exception": false,
     "start_time": "2020-11-15T16:58:51.486595",
     "status": "completed"
    },
    "tags": []
   },
   "outputs": [
    {
     "name": "stdout",
     "output_type": "stream",
     "text": [
      "ACTUAL GERMAN: . tisch einem an sitzt tom\n",
      "ACTUAL: ENGLISH: tom is sitting at a table .\n",
      "GENERATED BY MODEL: tom is sitting in a table .\n",
      "============================================================================================\n",
      "ACTUAL GERMAN: . bitte , lauter sprich\n",
      "ACTUAL: ENGLISH: please speak more loudly .\n",
      "GENERATED BY MODEL: speak louder , please .\n",
      "============================================================================================\n",
      "ACTUAL GERMAN: . aufzupassen kinder toms auf , helfen mir musst du\n",
      "ACTUAL: ENGLISH: i need you to help me take care of tom <unk> kids .\n",
      "GENERATED BY MODEL: you need to help me with the children .\n",
      "============================================================================================\n",
      "ACTUAL GERMAN: ? das du brauchst <unk>\n",
      "ACTUAL: ENGLISH: what do you need that for ?\n",
      "GENERATED BY MODEL: what do you need this for ?\n",
      "============================================================================================\n",
      "ACTUAL GERMAN: . sich langweile er , sagte tom\n",
      "ACTUAL: ENGLISH: tom said that he <unk> bored .\n",
      "GENERATED BY MODEL: tom said he was bored .\n",
      "============================================================================================\n",
      "ACTUAL GERMAN: . angekommen sonne der mit aber , gegangen regen dem mit sind wir\n",
      "ACTUAL: ENGLISH: it was sunny when we arrived , but rainy when we left .\n",
      "GENERATED BY MODEL: we went to the mountains , but the rain was closed .\n",
      "============================================================================================\n",
      "ACTUAL GERMAN: . unbeholfen ist sie\n",
      "ACTUAL: ENGLISH: she is awkward .\n",
      "GENERATED BY MODEL: she is suspicious .\n",
      "============================================================================================\n",
      "ACTUAL GERMAN: . lassen verstreichen chance weitere eine habe ich\n",
      "ACTUAL: ENGLISH: i <unk> missed another chance .\n",
      "GENERATED BY MODEL: i <unk> just a chance to get out .\n",
      "============================================================================================\n",
      "ACTUAL GERMAN: . wirklich nicht ist das\n",
      "ACTUAL: ENGLISH: this is <unk> real .\n",
      "GENERATED BY MODEL: that <unk> not really .\n",
      "============================================================================================\n",
      "ACTUAL GERMAN: <unk> vor schlimmste das auf mich bereite ich\n",
      "ACTUAL: ENGLISH: i <unk> getting ready for the worst .\n",
      "GENERATED BY MODEL: i <unk> be aware of the worst .\n",
      "============================================================================================\n",
      "ACTUAL GERMAN: . <unk> heute ist es\n",
      "ACTUAL: ENGLISH: it <unk> cloudy today .\n",
      "GENERATED BY MODEL: it <unk> hot today .\n",
      "============================================================================================\n",
      "ACTUAL GERMAN: . verknallt <unk> dieses in ist er\n",
      "ACTUAL: ENGLISH: he has a crush on this girl .\n",
      "GENERATED BY MODEL: he has a crush in this company .\n",
      "============================================================================================\n",
      "ACTUAL GERMAN: . <unk> tun er was , tom fragte ich\n",
      "ACTUAL: ENGLISH: i asked tom what he <unk> do .\n",
      "GENERATED BY MODEL: i asked tom what he wanted to do .\n",
      "============================================================================================\n",
      "ACTUAL GERMAN: . nicht oder hilfst mir du ob , egal mir ist es\n",
      "ACTUAL: ENGLISH: i do <unk> care if you help me or not .\n",
      "GENERATED BY MODEL: i do <unk> care if you <unk> me or not .\n",
      "============================================================================================\n",
      "ACTUAL GERMAN: . bushaltestelle zur rannte ich\n",
      "ACTUAL: ENGLISH: i ran to the bus stop .\n",
      "GENERATED BY MODEL: i ran to the bus .\n",
      "============================================================================================\n",
      "ACTUAL GERMAN: . tun zu es , <unk> zu daran sich um , gebraucht zeit wenig ein habe er , sagte tom\n",
      "ACTUAL: ENGLISH: tom said it took him a little while to get used to doing this .\n",
      "GENERATED BY MODEL: tom said he had a time to do anything to do it .\n",
      "============================================================================================\n",
      "ACTUAL GERMAN: ? gesagt pilot der hat was\n",
      "ACTUAL: ENGLISH: what did the pilot say ?\n",
      "GENERATED BY MODEL: what did the egyptians say ?\n",
      "============================================================================================\n",
      "ACTUAL GERMAN: . <unk> mein sie entschuldigen bitte\n",
      "ACTUAL: ENGLISH: please excuse me for coming late .\n",
      "GENERATED BY MODEL: please tell me your explanation .\n",
      "============================================================================================\n",
      "ACTUAL GERMAN: . anfangen streit keinen deswegen werde ich aber , habe recht ich dass , denke ich\n",
      "ACTUAL: ENGLISH: i think i <unk> right , but i <unk> not going to fight about it .\n",
      "GENERATED BY MODEL: i think i <unk> right , but i <unk> <unk> be able to make it decision .\n",
      "============================================================================================\n",
      "ACTUAL GERMAN: . kater einen habe ich\n",
      "ACTUAL: ENGLISH: i <unk> hungover .\n",
      "GENERATED BY MODEL: i have a hangover .\n",
      "============================================================================================\n"
     ]
    }
   ],
   "source": [
    "for idx in range(20):\n",
    "    print(f'ACTUAL GERMAN: {\" \".join([word for word in fun_de(sample_batch[0][:, idx]) if word not in [\"<pad>\", \"<sos>\", \"<eos>\"]])}')\n",
    "    print(f'ACTUAL: ENGLISH: {\" \".join([word for word in fun_en(sample_batch[1][:, idx]) if word not in [\"<pad>\", \"<sos>\", \"<eos>\"]])}')\n",
    "    print(f'GENERATED BY MODEL: {inference(model, sample_batch[0][:, idx].reshape(-1, 1))}')\n",
    "    print(\"=\"*92)"
   ]
  },
  {
   "cell_type": "markdown",
   "metadata": {
    "papermill": {
     "duration": 4.135531,
     "end_time": "2020-11-15T16:59:03.518254",
     "exception": false,
     "start_time": "2020-11-15T16:58:59.382723",
     "status": "completed"
    },
    "tags": []
   },
   "source": [
    "As you can see, this works well on short sentences."
   ]
  }
 ],
 "metadata": {
  "kernelspec": {
   "display_name": "Python 3",
   "language": "python",
   "name": "python3"
  },
  "language_info": {
   "codemirror_mode": {
    "name": "ipython",
    "version": 3
   },
   "file_extension": ".py",
   "mimetype": "text/x-python",
   "name": "python",
   "nbconvert_exporter": "python",
   "pygments_lexer": "ipython3",
   "version": "3.7.6"
  },
  "papermill": {
   "duration": 5027.280111,
   "end_time": "2020-11-15T16:59:08.501176",
   "environment_variables": {},
   "exception": null,
   "input_path": "__notebook__.ipynb",
   "output_path": "__notebook__.ipynb",
   "parameters": {},
   "start_time": "2020-11-15T15:35:21.221065",
   "version": "2.1.0"
  }
 },
 "nbformat": 4,
 "nbformat_minor": 4
}
