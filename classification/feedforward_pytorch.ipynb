{
 "cells": [
  {
   "cell_type": "code",
   "execution_count": 1,
   "id": "c9974117-9872-4c47-8e54-99787726d326",
   "metadata": {},
   "outputs": [],
   "source": [
    "import matplotlib.pyplot as plt\n",
    "import numpy as np\n",
    "import torch\n",
    "import torch.nn as nn\n",
    "import torchvision\n",
    "import torchvision.transforms as transforms"
   ]
  },
  {
   "cell_type": "code",
   "execution_count": 2,
   "id": "ce2404f7-2301-4a64-bee2-edffe7cf3fc7",
   "metadata": {},
   "outputs": [],
   "source": [
    "# Device configuration\n",
    "device = torch.device('cuda' if torch.cuda.is_available() else 'cpu')\n",
    "\n",
    "# Hyper-parameters \n",
    "input_size = 784 # 28*28 (flattened image)\n",
    "hidden_size = 500 # number of neurons\n",
    "num_classes = 10 # Target feature - digits - 0,1,2,3,...9 \n",
    "num_epochs = 5 # Total number of times the model gets to see the whole data\n",
    "batch_size = 100 # How many samples do we want to pass at a time to the model\n",
    "learning_rate = 0.001 "
   ]
  },
  {
   "cell_type": "code",
   "execution_count": 3,
   "id": "047b6c36-0532-4d70-af37-89f3718cbcd9",
   "metadata": {},
   "outputs": [
    {
     "name": "stdout",
     "output_type": "stream",
     "text": [
      "600\n"
     ]
    }
   ],
   "source": [
    "# MNIST dataset - to predict handwritten digits (digits 0-9, 28*28 image)\n",
    "train_dataset = torchvision.datasets.MNIST(root='data/mnist', \n",
    "                                           train=True, \n",
    "                                           transform=transforms.ToTensor(),  \n",
    "                                           download=True)\n",
    "\n",
    "test_dataset = torchvision.datasets.MNIST(root='data/mnist', \n",
    "                                          train=False, \n",
    "                                          transform=transforms.ToTensor())\n",
    "# `transforms.ToTensor()` - Converts training examples into tensors\n",
    "\n",
    "# Data loader\n",
    "# 60000 samples\n",
    "train_loader = torch.utils.data.DataLoader(dataset=train_dataset, \n",
    "                                           batch_size=batch_size, \n",
    "                                           shuffle=True)\n",
    "test_loader = torch.utils.data.DataLoader(dataset=test_dataset, \n",
    "                                          batch_size=batch_size, \n",
    "                                          shuffle=True)\n",
    "# shufffling is done for the generalization of data seen by the model\n",
    "print(len(train_loader))"
   ]
  },
  {
   "cell_type": "code",
   "execution_count": 36,
   "id": "fc39fe2a-5903-40ca-87f8-6a90afe0f878",
   "metadata": {},
   "outputs": [
    {
     "data": {
      "text/plain": [
       "'\\n100 handwritten-digits and 100 labels/target classes\\n'"
      ]
     },
     "execution_count": 36,
     "metadata": {},
     "output_type": "execute_result"
    }
   ],
   "source": [
    "# How data looks like??\n",
    "# Iterating over data loaders\n",
    "# for data in train_loader:\n",
    "#     print(data)\n",
    "#     break\n",
    "\"\"\"\n",
    "100 handwritten-digits and 100 labels/target classes\n",
    "\"\"\""
   ]
  },
  {
   "cell_type": "code",
   "execution_count": 5,
   "id": "3f49162e-bee4-45ca-b676-9f79773b70f3",
   "metadata": {},
   "outputs": [
    {
     "name": "stdout",
     "output_type": "stream",
     "text": [
      "torch.Size([100, 1, 28, 28])\n",
      "torch.Size([100])\n"
     ]
    }
   ],
   "source": [
    "print(data[0].shape)\n",
    "print(data[1].shape)"
   ]
  },
  {
   "cell_type": "code",
   "execution_count": 6,
   "id": "e5966c38-1d4c-4a44-968c-76b32872b76c",
   "metadata": {},
   "outputs": [
    {
     "name": "stdout",
     "output_type": "stream",
     "text": [
      "tensor(0)\n"
     ]
    }
   ],
   "source": [
    "x, y = data[0][0], data[1][0] # digit and the target class\n",
    "\n",
    "print(y)\n"
   ]
  },
  {
   "cell_type": "code",
   "execution_count": 37,
   "id": "55b85d94-f8af-431e-8a50-000c1fe75a3d",
   "metadata": {},
   "outputs": [],
   "source": [
    "# print(x)"
   ]
  },
  {
   "cell_type": "code",
   "execution_count": 8,
   "id": "e2ee5bbb-42a6-4136-92e9-ba40c65c66c9",
   "metadata": {},
   "outputs": [
    {
     "name": "stdout",
     "output_type": "stream",
     "text": [
      "torch.Size([1, 28, 28])\n"
     ]
    }
   ],
   "source": [
    "print(x.shape)\n",
    "# when read using torchvision shape is 1x28x28 (not sure of why?)"
   ]
  },
  {
   "cell_type": "code",
   "execution_count": 9,
   "id": "35e05aa4-4212-47ec-8c56-55b8e87b50cc",
   "metadata": {},
   "outputs": [
    {
     "data": {
      "text/plain": [
       "<matplotlib.image.AxesImage at 0x7fcc5e0323d0>"
      ]
     },
     "execution_count": 9,
     "metadata": {},
     "output_type": "execute_result"
    },
    {
     "data": {
      "image/png": "[encoded data removed]",
      "text/plain": [
       "<Figure size 640x480 with 1 Axes>"
      ]
     },
     "metadata": {},
     "output_type": "display_data"
    }
   ],
   "source": [
    "plt.imshow(x.view(28,28))"
   ]
  },
  {
   "cell_type": "code",
   "execution_count": 10,
   "id": "30853ecd-8cef-461c-86e4-01549358ba95",
   "metadata": {},
   "outputs": [
    {
     "name": "stdout",
     "output_type": "stream",
     "text": [
      "{5: 5421, 6: 5918, 8: 5851, 3: 6131, 0: 5923, 2: 5958, 1: 6742, 7: 6265, 4: 5842, 9: 5949}\n",
      "60000\n"
     ]
    }
   ],
   "source": [
    "# Check the total count of each digit present in the training data\n",
    "total_count = 0\n",
    "count_of_labels = dict()\n",
    "for data in train_loader:\n",
    "    xs, ys = data\n",
    "    for label in ys:\n",
    "        label = int(label)\n",
    "        if label in count_of_labels:\n",
    "            count_of_labels[label] += 1\n",
    "        else:\n",
    "            count_of_labels[label] = 1\n",
    "        total_count += 1\n",
    "print(count_of_labels)\n",
    "print(total_count)"
   ]
  },
  {
   "cell_type": "code",
   "execution_count": 11,
   "id": "b4975957-30fa-45a7-8b25-bd138d8b79cf",
   "metadata": {},
   "outputs": [],
   "source": [
    "# Fully connected neural network with one hidden layer\n",
    "class NeuralNet(nn.Module):\n",
    "    def __init__(self, input_size, hidden_size, num_classes):\n",
    "        super(NeuralNet, self).__init__()\n",
    "        self.fc1 = nn.Linear(input_size, hidden_size) \n",
    "        self.relu = nn.ReLU() \n",
    "        self.fc2 = nn.Linear(hidden_size, num_classes) \n",
    "        # output layer only has 10 neurons (10 digits)\n",
    "    \n",
    "    # feed forward flow defined here\n",
    "    def forward(self, x):\n",
    "        out = self.fc1(x)\n",
    "        out = self.relu(out) # activation req. for non-linearity\n",
    "        out = self.fc2(out)\n",
    "        return nn.functional.log_softmax(out, dim=1)\n",
    "\n",
    "model = NeuralNet(input_size, hidden_size, num_classes).to(device)"
   ]
  },
  {
   "cell_type": "code",
   "execution_count": 12,
   "id": "ac82fb4f-0eac-4660-9a5e-4c79c1c3d7ff",
   "metadata": {},
   "outputs": [
    {
     "data": {
      "text/plain": [
       "NeuralNet(\n",
       "  (fc1): Linear(in_features=784, out_features=500, bias=True)\n",
       "  (relu): ReLU()\n",
       "  (fc2): Linear(in_features=500, out_features=10, bias=True)\n",
       ")"
      ]
     },
     "execution_count": 12,
     "metadata": {},
     "output_type": "execute_result"
    }
   ],
   "source": [
    "model"
   ]
  },
  {
   "cell_type": "code",
   "execution_count": 13,
   "id": "46df2e0f-207c-4df1-bd2a-3d723c996c21",
   "metadata": {},
   "outputs": [],
   "source": [
    "for data in train_loader:\n",
    "    sample_data = data\n",
    "    break\n",
    "xs, ys = sample_data"
   ]
  },
  {
   "cell_type": "code",
   "execution_count": 14,
   "id": "5839142f-c85b-44b4-9216-8b5044dbcef2",
   "metadata": {},
   "outputs": [
    {
     "data": {
      "text/plain": [
       "tensor(1)"
      ]
     },
     "execution_count": 14,
     "metadata": {},
     "output_type": "execute_result"
    }
   ],
   "source": [
    "ys[0]"
   ]
  },
  {
   "cell_type": "code",
   "execution_count": 15,
   "id": "56ca5bce-e85e-4273-9878-b5faee1068f9",
   "metadata": {},
   "outputs": [
    {
     "name": "stdout",
     "output_type": "stream",
     "text": [
      "torch.Size([1, 28, 28])\n"
     ]
    }
   ],
   "source": [
    "# xs[0] # handwritten digit 4\n",
    "print(xs[0].shape)"
   ]
  },
  {
   "cell_type": "code",
   "execution_count": 16,
   "id": "adcd45b7-e143-4f55-9fe3-882d1f2eed9b",
   "metadata": {},
   "outputs": [
    {
     "data": {
      "text/plain": [
       "tensor([[-2.3490, -2.3737, -2.3288, -2.2720, -2.3589, -2.2463, -2.3709, -2.2362,\n",
       "         -2.2865, -2.2191]], grad_fn=<LogSoftmaxBackward0>)"
      ]
     },
     "execution_count": 16,
     "metadata": {},
     "output_type": "execute_result"
    }
   ],
   "source": [
    "model(xs[0].view(-1, 28*28))"
   ]
  },
  {
   "cell_type": "code",
   "execution_count": 17,
   "id": "b47255a5-0457-4a8b-9512-ae09776d5966",
   "metadata": {},
   "outputs": [
    {
     "data": {
      "text/plain": [
       "'\\ntensor([[-14.0670, -10.2727,  -7.2277,  -0.0969, -37.4099,  -2.4580, -10.4187,\\n          -5.2250,  -7.4856, -24.2775]], grad_fn=<LogSoftmaxBackward0>)\\n'"
      ]
     },
     "execution_count": 17,
     "metadata": {},
     "output_type": "execute_result"
    }
   ],
   "source": [
    "X = (torch.rand(28*28)).view(-1, 28*28)# the size -1 is inferred from other dimensions\n",
    "X.shape\n",
    "# model(X) # grad_fn=<LogSoftmaxBackward0>)\n",
    "\"\"\"\n",
    "tensor([[-14.0670, -10.2727,  -7.2277,  -0.0969, -37.4099,  -2.4580, -10.4187,\n",
    "          -5.2250,  -7.4856, -24.2775]], grad_fn=<LogSoftmaxBackward0>)\n",
    "\"\"\""
   ]
  },
  {
   "cell_type": "code",
   "execution_count": 18,
   "id": "84e8f2de-5630-42cb-a6ca-28520dbf41e5",
   "metadata": {},
   "outputs": [],
   "source": [
    "# model.parameters()"
   ]
  },
  {
   "cell_type": "code",
   "execution_count": 19,
   "id": "8e10f212-80a5-417f-aa9c-67473c6396b4",
   "metadata": {},
   "outputs": [],
   "source": [
    "# for p in model.parameters():\n",
    "#     print(p)"
   ]
  },
  {
   "cell_type": "code",
   "execution_count": 28,
   "id": "48c409af-b3d1-4b85-8fac-02841a80c248",
   "metadata": {},
   "outputs": [
    {
     "name": "stdout",
     "output_type": "stream",
     "text": [
      "Epoch [1/5], Step [100/600], Loss: 0.0410\n",
      "Epoch [1/5], Step [200/600], Loss: 0.0068\n",
      "Epoch [1/5], Step [300/600], Loss: 0.0040\n",
      "Epoch [1/5], Step [400/600], Loss: 0.0560\n",
      "Epoch [1/5], Step [500/600], Loss: 0.0033\n",
      "Epoch [1/5], Step [600/600], Loss: 0.0121\n",
      "Epoch [2/5], Step [100/600], Loss: 0.0125\n",
      "Epoch [2/5], Step [200/600], Loss: 0.0016\n",
      "Epoch [2/5], Step [300/600], Loss: 0.0015\n",
      "Epoch [2/5], Step [400/600], Loss: 0.0050\n",
      "Epoch [2/5], Step [500/600], Loss: 0.0326\n",
      "Epoch [2/5], Step [600/600], Loss: 0.0269\n",
      "Epoch [3/5], Step [100/600], Loss: 0.0011\n",
      "Epoch [3/5], Step [200/600], Loss: 0.0023\n",
      "Epoch [3/5], Step [300/600], Loss: 0.0063\n",
      "Epoch [3/5], Step [400/600], Loss: 0.0021\n",
      "Epoch [3/5], Step [500/600], Loss: 0.0206\n",
      "Epoch [3/5], Step [600/600], Loss: 0.0014\n",
      "Epoch [4/5], Step [100/600], Loss: 0.0025\n",
      "Epoch [4/5], Step [200/600], Loss: 0.0007\n",
      "Epoch [4/5], Step [300/600], Loss: 0.0006\n",
      "Epoch [4/5], Step [400/600], Loss: 0.0173\n",
      "Epoch [4/5], Step [500/600], Loss: 0.0052\n",
      "Epoch [4/5], Step [600/600], Loss: 0.0013\n",
      "Epoch [5/5], Step [100/600], Loss: 0.0015\n",
      "Epoch [5/5], Step [200/600], Loss: 0.0066\n",
      "Epoch [5/5], Step [300/600], Loss: 0.0003\n",
      "Epoch [5/5], Step [400/600], Loss: 0.0067\n",
      "Epoch [5/5], Step [500/600], Loss: 0.0006\n",
      "Epoch [5/5], Step [600/600], Loss: 0.0042\n"
     ]
    }
   ],
   "source": [
    "# Loss and optimizer\n",
    "criterion = nn.CrossEntropyLoss()\n",
    "optimizer = torch.optim.Adam(model.parameters(), lr=learning_rate)  \n",
    "\n",
    "# Train the model\n",
    "train_cost = []\n",
    "iterations = 0\n",
    "total_step = len(train_loader)\n",
    "for epoch in range(num_epochs):\n",
    "    for i, (images, labels) in enumerate(train_loader):  \n",
    "        # Move tensors to the configured device\n",
    "        images = images.reshape(-1, 28*28).to(device) # -1 because dependent on batch size\n",
    "        labels = labels.to(device)\n",
    "        \n",
    "        # Forward pass\n",
    "        outputs = model(images) # need not call forward()\n",
    "        loss = criterion(outputs, labels)\n",
    "        train_cost.append(loss.item())\n",
    "        \n",
    "        # Backward and optimize\n",
    "        optimizer.zero_grad() # Otherwise gradients keep summing up\n",
    "        loss.backward()\n",
    "        optimizer.step()\n",
    "        \n",
    "        if (i+1) % 100 == 0:\n",
    "            print ('Epoch [{}/{}], Step [{}/{}], Loss: {:.4f}' \n",
    "                   .format(epoch+1, num_epochs, i+1, total_step, loss.item()))\n",
    "        iterations += 1"
   ]
  },
  {
   "cell_type": "code",
   "execution_count": 35,
   "id": "b3581105-727d-4bec-82f9-8f2463307769",
   "metadata": {},
   "outputs": [],
   "source": [
    "# plt.plot(np.arange(iterations), train_cost)\n",
    "# plt.title(\"Training cost\")\n",
    "# plt.show()"
   ]
  },
  {
   "cell_type": "code",
   "execution_count": 30,
   "id": "e240e60e-129e-4881-aaf5-5936d8d0c427",
   "metadata": {},
   "outputs": [
    {
     "name": "stdout",
     "output_type": "stream",
     "text": [
      "Accuracy of the network on the 10000 test images: 97.83 %\n"
     ]
    }
   ],
   "source": [
    "# Test the model\n",
    "# In test phase, we don't need to compute gradients (for memory efficiency)\n",
    "with torch.no_grad():\n",
    "    correct = 0\n",
    "    total = 0\n",
    "    for images, labels in test_loader:\n",
    "        images = images.reshape(-1, 28*28).to(device)\n",
    "        labels = labels.to(device)\n",
    "        outputs = model(images)\n",
    "        # print(outputs.data)\n",
    "        _, predicted = torch.max(outputs.data, 1)\n",
    "        total += labels.size(0)\n",
    "        correct += (predicted == labels).sum().item()\n",
    "\n",
    "    print('Accuracy of the network on the 10000 test images: {} %'.format(100 * correct / total))"
   ]
  },
  {
   "cell_type": "code",
   "execution_count": 31,
   "id": "60b6e9d9-9afe-4400-a820-f3d337946fc5",
   "metadata": {},
   "outputs": [],
   "source": [
    "# !pip install torchvision"
   ]
  },
  {
   "cell_type": "code",
   "execution_count": 32,
   "id": "e7cf9f7e-c870-4ee9-b914-a64da069ef45",
   "metadata": {},
   "outputs": [
    {
     "data": {
      "text/plain": [
       "torch.Size([100, 784])"
      ]
     },
     "execution_count": 32,
     "metadata": {},
     "output_type": "execute_result"
    }
   ],
   "source": [
    "images.shape"
   ]
  },
  {
   "cell_type": "code",
   "execution_count": 33,
   "id": "52837e20-2f2b-4b29-8186-5a1d94c80d0b",
   "metadata": {},
   "outputs": [
    {
     "data": {
      "image/png": "[encoded data removed]",
      "text/plain": [
       "<Figure size 640x480 with 1 Axes>"
      ]
     },
     "metadata": {},
     "output_type": "display_data"
    }
   ],
   "source": [
    "plt.imshow(images[0].view(28,28))\n",
    "plt.show()"
   ]
  },
  {
   "cell_type": "code",
   "execution_count": 34,
   "id": "f7e9f668-dbf3-4507-9955-709147a264eb",
   "metadata": {},
   "outputs": [
    {
     "data": {
      "text/plain": [
       "tensor(5)"
      ]
     },
     "execution_count": 34,
     "metadata": {},
     "output_type": "execute_result"
    }
   ],
   "source": [
    "labels[0]"
   ]
  },
  {
   "cell_type": "code",
   "execution_count": null,
   "id": "685f0cab-3ebf-4109-8fd9-567412de8aa4",
   "metadata": {},
   "outputs": [],
   "source": []
  },
  {
   "cell_type": "code",
   "execution_count": null,
   "id": "94c3dbb3-ed84-4504-a9da-01a76fc3a179",
   "metadata": {},
   "outputs": [],
   "source": []
  }
 ],
 "metadata": {
  "kernelspec": {
   "display_name": "Python 3 (ipykernel)",
   "language": "python",
   "name": "python3"
  },
  "language_info": {
   "codemirror_mode": {
    "name": "ipython",
    "version": 3
   },
   "file_extension": ".py",
   "mimetype": "text/x-python",
   "name": "python",
   "nbconvert_exporter": "python",
   "pygments_lexer": "ipython3",
   "version": "3.8.13"
  },
  "vscode": {
   "interpreter": {
    "hash": "02f6b9677e163cab6dea6bfb6065022958ce9f83ac7888220cd5caa910b8889f"
   }
  }
 },
 "nbformat": 4,
 "nbformat_minor": 5
}
